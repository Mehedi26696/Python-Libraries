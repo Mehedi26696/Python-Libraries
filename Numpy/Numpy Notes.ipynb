{
 "cells": [
  {
   "cell_type": "markdown",
   "id": "6aa3c334-e760-4816-a5c8-83a89bf4732d",
   "metadata": {},
   "source": [
    "# Welcome to numpy"
   ]
  },
  {
   "cell_type": "code",
   "execution_count": 1,
   "id": "528e66a2-e884-4a29-83e5-7862d4a08425",
   "metadata": {},
   "outputs": [],
   "source": [
    "import numpy as np"
   ]
  },
  {
   "cell_type": "markdown",
   "id": "6f1ee5f8-5863-43c6-ad49-cd242454dd0c",
   "metadata": {},
   "source": [
    "# Array declaration"
   ]
  },
  {
   "cell_type": "code",
   "execution_count": 2,
   "id": "4af1d6f4-da81-44b9-b287-e67c11467cc8",
   "metadata": {},
   "outputs": [],
   "source": [
    "myarr = np.array([[3,6,32,7]],np.int64)"
   ]
  },
  {
   "cell_type": "code",
   "execution_count": 3,
   "id": "d9969e62-e417-47ed-bb96-f217d690510e",
   "metadata": {},
   "outputs": [
    {
     "data": {
      "text/plain": [
       "array([[ 3,  6, 32,  7]], dtype=int64)"
      ]
     },
     "execution_count": 3,
     "metadata": {},
     "output_type": "execute_result"
    }
   ],
   "source": [
    "myarr"
   ]
  },
  {
   "cell_type": "code",
   "execution_count": 4,
   "id": "5018f3ae-b8d9-408b-a2e0-20085df62cd9",
   "metadata": {
    "scrolled": true
   },
   "outputs": [
    {
     "data": {
      "text/plain": [
       "(1, 4)"
      ]
     },
     "execution_count": 4,
     "metadata": {},
     "output_type": "execute_result"
    }
   ],
   "source": [
    " myarr.shape"
   ]
  },
  {
   "cell_type": "code",
   "execution_count": 5,
   "id": "ab9eff92-2c50-4e81-9b88-0ed481147108",
   "metadata": {},
   "outputs": [
    {
     "data": {
      "text/plain": [
       "dtype('int64')"
      ]
     },
     "execution_count": 5,
     "metadata": {},
     "output_type": "execute_result"
    }
   ],
   "source": [
    "myarr.dtype"
   ]
  },
  {
   "cell_type": "code",
   "execution_count": 6,
   "id": "69e0961c-9472-4052-b4f1-60e6dcb50588",
   "metadata": {},
   "outputs": [
    {
     "data": {
      "text/plain": [
       "6"
      ]
     },
     "execution_count": 6,
     "metadata": {},
     "output_type": "execute_result"
    }
   ],
   "source": [
    "myarr[0,1]"
   ]
  },
  {
   "cell_type": "code",
   "execution_count": 7,
   "id": "30e05f57-5602-4282-8d35-1fecf8eff090",
   "metadata": {},
   "outputs": [],
   "source": [
    "myarr[0,1]=33"
   ]
  },
  {
   "cell_type": "code",
   "execution_count": 8,
   "id": "fca070a6-84a8-4370-a0d2-faf9f5a2e8c4",
   "metadata": {},
   "outputs": [
    {
     "data": {
      "text/plain": [
       "33"
      ]
     },
     "execution_count": 8,
     "metadata": {},
     "output_type": "execute_result"
    }
   ],
   "source": [
    "myarr[0,1]"
   ]
  },
  {
   "cell_type": "markdown",
   "id": "f6f34bdb-a806-4e9b-94f5-e0a43b2e2894",
   "metadata": {},
   "source": [
    "# Array Creation: Conversion from other Python structures"
   ]
  },
  {
   "cell_type": "code",
   "execution_count": 9,
   "id": "ed6f74e9-db6f-4e49-bbe3-53323a436251",
   "metadata": {},
   "outputs": [],
   "source": [
    "listarray=np.array([[1,2,3],[4,5,7],[3,8,9]])"
   ]
  },
  {
   "cell_type": "code",
   "execution_count": 10,
   "id": "87ee2d8f-da4f-4106-8063-369486277174",
   "metadata": {},
   "outputs": [
    {
     "data": {
      "text/plain": [
       "array([[1, 2, 3],\n",
       "       [4, 5, 7],\n",
       "       [3, 8, 9]])"
      ]
     },
     "execution_count": 10,
     "metadata": {},
     "output_type": "execute_result"
    }
   ],
   "source": [
    "listarray"
   ]
  },
  {
   "cell_type": "code",
   "execution_count": 11,
   "id": "b894e3ce-d3ac-4656-8fe2-d6069a769d6f",
   "metadata": {},
   "outputs": [
    {
     "data": {
      "text/plain": [
       "(3, 3)"
      ]
     },
     "execution_count": 11,
     "metadata": {},
     "output_type": "execute_result"
    }
   ],
   "source": [
    "listarray.shape"
   ]
  },
  {
   "cell_type": "code",
   "execution_count": 12,
   "id": "ce5ce180-c879-4d65-b31a-bf547c768a2e",
   "metadata": {},
   "outputs": [
    {
     "data": {
      "text/plain": [
       "dtype('int32')"
      ]
     },
     "execution_count": 12,
     "metadata": {},
     "output_type": "execute_result"
    }
   ],
   "source": [
    "listarray.dtype"
   ]
  },
  {
   "cell_type": "code",
   "execution_count": 13,
   "id": "5bdc3668-b7de-42bb-9c23-8f1413c06515",
   "metadata": {},
   "outputs": [
    {
     "data": {
      "text/plain": [
       "9"
      ]
     },
     "execution_count": 13,
     "metadata": {},
     "output_type": "execute_result"
    }
   ],
   "source": [
    "listarray.size"
   ]
  },
  {
   "cell_type": "markdown",
   "id": "684899e8-57b9-487c-ad4f-e2972de3e0ad",
   "metadata": {},
   "source": [
    "# Intrinsic numpy array creation objects (arange,ones,zeros etc)"
   ]
  },
  {
   "cell_type": "markdown",
   "id": "09905a14-5b32-465b-abdb-429b019bf6b2",
   "metadata": {},
   "source": [
    "***Creating array of zeroes***"
   ]
  },
  {
   "cell_type": "code",
   "execution_count": 14,
   "id": "6e75bf6e-1dd6-4253-89ba-eefbed1aac87",
   "metadata": {},
   "outputs": [],
   "source": [
    "zeros = np.zeros((2,5))"
   ]
  },
  {
   "cell_type": "code",
   "execution_count": 15,
   "id": "bd314761-1e7e-4756-baa5-33cf21dd85fc",
   "metadata": {},
   "outputs": [
    {
     "data": {
      "text/plain": [
       "array([[0., 0., 0., 0., 0.],\n",
       "       [0., 0., 0., 0., 0.]])"
      ]
     },
     "execution_count": 15,
     "metadata": {},
     "output_type": "execute_result"
    }
   ],
   "source": [
    "zeros"
   ]
  },
  {
   "cell_type": "markdown",
   "id": "cc700a19-6c07-408c-844c-6a9edb414985",
   "metadata": {},
   "source": [
    "***Creating array in range***"
   ]
  },
  {
   "cell_type": "code",
   "execution_count": 16,
   "id": "6646f352-9b57-47f1-a264-da393015915e",
   "metadata": {},
   "outputs": [],
   "source": [
    "rng = np.arange(20)"
   ]
  },
  {
   "cell_type": "code",
   "execution_count": 17,
   "id": "9730d0bb-7d1d-46ba-9d28-250554726c14",
   "metadata": {},
   "outputs": [
    {
     "data": {
      "text/plain": [
       "array([ 0,  1,  2,  3,  4,  5,  6,  7,  8,  9, 10, 11, 12, 13, 14, 15, 16,\n",
       "       17, 18, 19])"
      ]
     },
     "execution_count": 17,
     "metadata": {},
     "output_type": "execute_result"
    }
   ],
   "source": [
    "rng"
   ]
  },
  {
   "cell_type": "markdown",
   "id": "d24e16b8-9a1a-4ebc-bdfe-7e99b13a6797",
   "metadata": {},
   "source": [
    "***Finding certain numbers in a range***"
   ]
  },
  {
   "cell_type": "code",
   "execution_count": 18,
   "id": "e9311545-eeb7-41c7-b127-ad0b2ac43594",
   "metadata": {},
   "outputs": [],
   "source": [
    "ls = np.linspace(1,50,10)"
   ]
  },
  {
   "cell_type": "code",
   "execution_count": 19,
   "id": "ac2bb5a9-6913-42eb-ba47-d1e36a4c3f02",
   "metadata": {},
   "outputs": [
    {
     "data": {
      "text/plain": [
       "array([ 1.        ,  6.44444444, 11.88888889, 17.33333333, 22.77777778,\n",
       "       28.22222222, 33.66666667, 39.11111111, 44.55555556, 50.        ])"
      ]
     },
     "execution_count": 19,
     "metadata": {},
     "output_type": "execute_result"
    }
   ],
   "source": [
    "ls"
   ]
  },
  {
   "cell_type": "markdown",
   "id": "dbbaeb82-0885-4394-96dc-b6b952c6997a",
   "metadata": {},
   "source": [
    "***Random number an array***"
   ]
  },
  {
   "cell_type": "code",
   "execution_count": 20,
   "id": "2ecff617-628e-473c-b7bf-097249fe5bdf",
   "metadata": {},
   "outputs": [],
   "source": [
    "emp = np.empty((4,6))"
   ]
  },
  {
   "cell_type": "code",
   "execution_count": 21,
   "id": "81f5649b-0763-4aaa-bd8d-e5f827556ce0",
   "metadata": {},
   "outputs": [
    {
     "data": {
      "text/plain": [
       "array([[6.23042070e-307, 4.67296746e-307, 1.69121096e-306,\n",
       "        6.23058707e-307, 2.22526399e-307, 6.23053614e-307],\n",
       "       [7.56592338e-307, 1.60216183e-306, 7.56602523e-307,\n",
       "        3.56043054e-307, 1.37961641e-306, 2.22518251e-306],\n",
       "       [1.33511969e-306, 6.23037657e-307, 6.23053954e-307,\n",
       "        9.34609790e-307, 8.45593934e-307, 9.34600963e-307],\n",
       "       [1.86921143e-306, 6.23061763e-307, 9.34593493e-307,\n",
       "        7.56602524e-307, 2.22522596e-306, 3.91786943e-317]])"
      ]
     },
     "execution_count": 21,
     "metadata": {},
     "output_type": "execute_result"
    }
   ],
   "source": [
    "emp"
   ]
  },
  {
   "cell_type": "code",
   "execution_count": 22,
   "id": "5455060a-29f3-46fa-81b1-6526c9e13b33",
   "metadata": {},
   "outputs": [],
   "source": [
    "emp_l = np.empty_like(ls)"
   ]
  },
  {
   "cell_type": "code",
   "execution_count": 23,
   "id": "fac19e12-a99c-4af1-8d72-a999eef37cbb",
   "metadata": {},
   "outputs": [
    {
     "data": {
      "text/plain": [
       "array([ 1.        ,  6.44444444, 11.88888889, 17.33333333, 22.77777778,\n",
       "       28.22222222, 33.66666667, 39.11111111, 44.55555556, 50.        ])"
      ]
     },
     "execution_count": 23,
     "metadata": {},
     "output_type": "execute_result"
    }
   ],
   "source": [
    "emp_l"
   ]
  },
  {
   "cell_type": "markdown",
   "id": "56ed57bf-cd36-4640-8975-1bb91ef9e1d9",
   "metadata": {},
   "source": [
    "# Identity Matrix"
   ]
  },
  {
   "cell_type": "code",
   "execution_count": 24,
   "id": "684268ba-f7f6-4185-af5d-abb5455b625a",
   "metadata": {},
   "outputs": [],
   "source": [
    "ide = np.identity(10)"
   ]
  },
  {
   "cell_type": "code",
   "execution_count": 25,
   "id": "80a213b5-596e-44ab-86a5-d6e297498d36",
   "metadata": {},
   "outputs": [
    {
     "data": {
      "text/plain": [
       "array([[1., 0., 0., 0., 0., 0., 0., 0., 0., 0.],\n",
       "       [0., 1., 0., 0., 0., 0., 0., 0., 0., 0.],\n",
       "       [0., 0., 1., 0., 0., 0., 0., 0., 0., 0.],\n",
       "       [0., 0., 0., 1., 0., 0., 0., 0., 0., 0.],\n",
       "       [0., 0., 0., 0., 1., 0., 0., 0., 0., 0.],\n",
       "       [0., 0., 0., 0., 0., 1., 0., 0., 0., 0.],\n",
       "       [0., 0., 0., 0., 0., 0., 1., 0., 0., 0.],\n",
       "       [0., 0., 0., 0., 0., 0., 0., 1., 0., 0.],\n",
       "       [0., 0., 0., 0., 0., 0., 0., 0., 1., 0.],\n",
       "       [0., 0., 0., 0., 0., 0., 0., 0., 0., 1.]])"
      ]
     },
     "execution_count": 25,
     "metadata": {},
     "output_type": "execute_result"
    }
   ],
   "source": [
    "ide"
   ]
  },
  {
   "cell_type": "code",
   "execution_count": 26,
   "id": "fdb60c74-372e-48a3-8875-526983808a35",
   "metadata": {},
   "outputs": [
    {
     "data": {
      "text/plain": [
       "(10, 10)"
      ]
     },
     "execution_count": 26,
     "metadata": {},
     "output_type": "execute_result"
    }
   ],
   "source": [
    "ide.shape"
   ]
  },
  {
   "cell_type": "markdown",
   "id": "1cd0f6d7-13f5-4ea8-b32d-f31dc1e8a7b1",
   "metadata": {},
   "source": [
    "***Convert array shape***"
   ]
  },
  {
   "cell_type": "code",
   "execution_count": 27,
   "id": "cfe16280-30d7-4ef4-be9d-88116130c629",
   "metadata": {},
   "outputs": [],
   "source": [
    "arr = np.arange(20)"
   ]
  },
  {
   "cell_type": "code",
   "execution_count": 28,
   "id": "0f9be81f-11a8-4638-9620-5160c75c3320",
   "metadata": {},
   "outputs": [
    {
     "data": {
      "text/plain": [
       "array([ 0,  1,  2,  3,  4,  5,  6,  7,  8,  9, 10, 11, 12, 13, 14, 15, 16,\n",
       "       17, 18, 19])"
      ]
     },
     "execution_count": 28,
     "metadata": {},
     "output_type": "execute_result"
    }
   ],
   "source": [
    "arr"
   ]
  },
  {
   "cell_type": "code",
   "execution_count": 29,
   "id": "63de42f4-4a68-410f-87e8-93724971cd8e",
   "metadata": {},
   "outputs": [],
   "source": [
    "arr = arr.reshape(4,5)"
   ]
  },
  {
   "cell_type": "code",
   "execution_count": 30,
   "id": "b4511515-9d13-4e27-bdb4-cb70dbcd8e4d",
   "metadata": {},
   "outputs": [
    {
     "data": {
      "text/plain": [
       "array([[ 0,  1,  2,  3,  4],\n",
       "       [ 5,  6,  7,  8,  9],\n",
       "       [10, 11, 12, 13, 14],\n",
       "       [15, 16, 17, 18, 19]])"
      ]
     },
     "execution_count": 30,
     "metadata": {},
     "output_type": "execute_result"
    }
   ],
   "source": [
    "arr"
   ]
  },
  {
   "cell_type": "code",
   "execution_count": 31,
   "id": "d093a2ed-9eff-4bcd-a6c7-f53fd5d6a0b4",
   "metadata": {},
   "outputs": [],
   "source": [
    "arr=arr.ravel()"
   ]
  },
  {
   "cell_type": "code",
   "execution_count": 32,
   "id": "e43ffbf0-74ae-4800-bfd2-42994bd52e41",
   "metadata": {},
   "outputs": [
    {
     "data": {
      "text/plain": [
       "array([ 0,  1,  2,  3,  4,  5,  6,  7,  8,  9, 10, 11, 12, 13, 14, 15, 16,\n",
       "       17, 18, 19])"
      ]
     },
     "execution_count": 32,
     "metadata": {},
     "output_type": "execute_result"
    }
   ],
   "source": [
    "arr"
   ]
  },
  {
   "cell_type": "markdown",
   "id": "131a7871-0811-4aa7-8824-43e2756601a7",
   "metadata": {},
   "source": [
    "# Axis of array"
   ]
  },
  {
   "cell_type": "code",
   "execution_count": 33,
   "id": "81d39f96-202e-449a-bbc9-0e8fcfa6e204",
   "metadata": {},
   "outputs": [],
   "source": [
    "x = [[1,2,3],[4,5,6],[7,8,9]]"
   ]
  },
  {
   "cell_type": "code",
   "execution_count": 34,
   "id": "4890872f-028d-4b8a-96eb-9d315bdcbb28",
   "metadata": {},
   "outputs": [],
   "source": [
    "ar = np.array(x)"
   ]
  },
  {
   "cell_type": "code",
   "execution_count": 35,
   "id": "8da1bf56-e741-4727-b060-f9d84f5edd15",
   "metadata": {},
   "outputs": [
    {
     "data": {
      "text/plain": [
       "array([[1, 2, 3],\n",
       "       [4, 5, 6],\n",
       "       [7, 8, 9]])"
      ]
     },
     "execution_count": 35,
     "metadata": {},
     "output_type": "execute_result"
    }
   ],
   "source": [
    "ar"
   ]
  },
  {
   "cell_type": "code",
   "execution_count": 36,
   "id": "f0b6a085-2134-439a-aea3-309a59d0e223",
   "metadata": {},
   "outputs": [
    {
     "data": {
      "text/plain": [
       "array([12, 15, 18])"
      ]
     },
     "execution_count": 36,
     "metadata": {},
     "output_type": "execute_result"
    }
   ],
   "source": [
    "ar.sum(axis = 0)"
   ]
  },
  {
   "cell_type": "code",
   "execution_count": 37,
   "id": "50bf008b-a1ae-4474-80d3-fac2a4ede568",
   "metadata": {},
   "outputs": [
    {
     "data": {
      "text/plain": [
       "array([ 6, 15, 24])"
      ]
     },
     "execution_count": 37,
     "metadata": {},
     "output_type": "execute_result"
    }
   ],
   "source": [
    "ar.sum(axis=1)"
   ]
  },
  {
   "cell_type": "markdown",
   "id": "4ccd3d4f-0534-4288-8cfa-b9caeeea5dbe",
   "metadata": {},
   "source": [
    "# Transpose of a matrix"
   ]
  },
  {
   "cell_type": "code",
   "execution_count": 38,
   "id": "f71a65d8-046c-43d2-9802-06dd46661d10",
   "metadata": {},
   "outputs": [
    {
     "data": {
      "text/plain": [
       "array([[1, 4, 7],\n",
       "       [2, 5, 8],\n",
       "       [3, 6, 9]])"
      ]
     },
     "execution_count": 38,
     "metadata": {},
     "output_type": "execute_result"
    }
   ],
   "source": [
    "ar.T"
   ]
  },
  {
   "cell_type": "markdown",
   "id": "5394275a-393f-49ae-83b3-34c5711bbfd5",
   "metadata": {},
   "source": [
    "# Iterator Creation"
   ]
  },
  {
   "cell_type": "code",
   "execution_count": 39,
   "id": "68dcf538-3796-46ba-ab13-20a6345a1064",
   "metadata": {},
   "outputs": [
    {
     "data": {
      "text/plain": [
       "<numpy.flatiter at 0x289d33bc500>"
      ]
     },
     "execution_count": 39,
     "metadata": {},
     "output_type": "execute_result"
    }
   ],
   "source": [
    "ar.flat"
   ]
  },
  {
   "cell_type": "code",
   "execution_count": 40,
   "id": "589c6ee6-47ab-489e-bca0-bdb383233fd0",
   "metadata": {},
   "outputs": [
    {
     "name": "stdout",
     "output_type": "stream",
     "text": [
      "1\n",
      "2\n",
      "3\n",
      "4\n",
      "5\n",
      "6\n",
      "7\n",
      "8\n",
      "9\n"
     ]
    }
   ],
   "source": [
    " for i in ar. flat:\n",
    "     print(i)"
   ]
  },
  {
   "cell_type": "markdown",
   "id": "1d7e42e9-51e6-49a2-864d-fd3fa84d4a80",
   "metadata": {},
   "source": [
    "# Some attributes"
   ]
  },
  {
   "cell_type": "code",
   "execution_count": 41,
   "id": "e3a2adbd-beb5-4f55-a645-0065a7c4ccaa",
   "metadata": {},
   "outputs": [
    {
     "data": {
      "text/plain": [
       "2"
      ]
     },
     "execution_count": 41,
     "metadata": {},
     "output_type": "execute_result"
    }
   ],
   "source": [
    "ar.ndim"
   ]
  },
  {
   "cell_type": "code",
   "execution_count": 42,
   "id": "2d46742a-4342-439c-8c6a-274c3386d946",
   "metadata": {},
   "outputs": [
    {
     "data": {
      "text/plain": [
       "9"
      ]
     },
     "execution_count": 42,
     "metadata": {},
     "output_type": "execute_result"
    }
   ],
   "source": [
    "ar.size"
   ]
  },
  {
   "cell_type": "code",
   "execution_count": 43,
   "id": "83cb8cc5-a58a-46f1-8f86-b5d606195b63",
   "metadata": {},
   "outputs": [
    {
     "data": {
      "text/plain": [
       "36"
      ]
     },
     "execution_count": 43,
     "metadata": {},
     "output_type": "execute_result"
    }
   ],
   "source": [
    "ar.nbytes"
   ]
  },
  {
   "cell_type": "code",
   "execution_count": 44,
   "id": "e1bf4baf-0459-4ca6-b69d-4a193a15f54c",
   "metadata": {},
   "outputs": [
    {
     "data": {
      "text/plain": [
       "4"
      ]
     },
     "execution_count": 44,
     "metadata": {},
     "output_type": "execute_result"
    }
   ],
   "source": [
    "ar.itemsize"
   ]
  },
  {
   "cell_type": "markdown",
   "id": "752f93b3-8cd1-4f37-815a-b9de4ff30d0b",
   "metadata": {},
   "source": [
    "# Some methods"
   ]
  },
  {
   "cell_type": "code",
   "execution_count": 45,
   "id": "988c44a3-c8b3-4135-b91d-1afb80376992",
   "metadata": {},
   "outputs": [],
   "source": [
    "one = np.array([1,4,6,4,5])"
   ]
  },
  {
   "cell_type": "markdown",
   "id": "43949d87-5c09-4cbc-901d-7e60f654e78b",
   "metadata": {},
   "source": [
    "***argmax()/argmin() gave maximum and minimum elements index***"
   ]
  },
  {
   "cell_type": "code",
   "execution_count": 46,
   "id": "7424c875-de86-4892-b560-a41f1775b4c8",
   "metadata": {},
   "outputs": [
    {
     "data": {
      "text/plain": [
       "2"
      ]
     },
     "execution_count": 46,
     "metadata": {},
     "output_type": "execute_result"
    }
   ],
   "source": [
    "one.argmax()"
   ]
  },
  {
   "cell_type": "code",
   "execution_count": 47,
   "id": "4e6fab19-9501-499a-92ac-cece5c892785",
   "metadata": {},
   "outputs": [
    {
     "data": {
      "text/plain": [
       "0"
      ]
     },
     "execution_count": 47,
     "metadata": {},
     "output_type": "execute_result"
    }
   ],
   "source": [
    "one.argmin()"
   ]
  },
  {
   "cell_type": "markdown",
   "id": "bf7f7251-c368-4f46-8daf-4d85d7ac7183",
   "metadata": {},
   "source": [
    "***argsort() gave array of index as sorted***"
   ]
  },
  {
   "cell_type": "code",
   "execution_count": 48,
   "id": "e02577aa-2043-4f92-b614-412e2de2d477",
   "metadata": {},
   "outputs": [
    {
     "data": {
      "text/plain": [
       "array([0, 1, 3, 4, 2], dtype=int64)"
      ]
     },
     "execution_count": 48,
     "metadata": {},
     "output_type": "execute_result"
    }
   ],
   "source": [
    "one.argsort()"
   ]
  },
  {
   "cell_type": "markdown",
   "id": "7d656417-157a-4ef3-91b1-c63f13c99a60",
   "metadata": {},
   "source": [
    "***argmax,min,sort for 2D***"
   ]
  },
  {
   "cell_type": "code",
   "execution_count": 49,
   "id": "b89d2186-e2b5-4c42-af9a-2331e8805df6",
   "metadata": {},
   "outputs": [],
   "source": [
    "a=np.array([[1,2,3],[4,13,6],[7,4,9]])"
   ]
  },
  {
   "cell_type": "code",
   "execution_count": 50,
   "id": "4ee78a54-d63f-4fea-b47b-258d0f281533",
   "metadata": {},
   "outputs": [
    {
     "data": {
      "text/plain": [
       "array([[ 1,  2,  3],\n",
       "       [ 4, 13,  6],\n",
       "       [ 7,  4,  9]])"
      ]
     },
     "execution_count": 50,
     "metadata": {},
     "output_type": "execute_result"
    }
   ],
   "source": [
    "a"
   ]
  },
  {
   "cell_type": "code",
   "execution_count": 51,
   "id": "2104e06a-6dea-482c-b1b5-ec86db61494a",
   "metadata": {},
   "outputs": [
    {
     "data": {
      "text/plain": [
       "4"
      ]
     },
     "execution_count": 51,
     "metadata": {},
     "output_type": "execute_result"
    }
   ],
   "source": [
    "a.argmax()"
   ]
  },
  {
   "cell_type": "code",
   "execution_count": 52,
   "id": "6eea5682-1633-47f1-8b03-63744137fc09",
   "metadata": {},
   "outputs": [
    {
     "data": {
      "text/plain": [
       "0"
      ]
     },
     "execution_count": 52,
     "metadata": {},
     "output_type": "execute_result"
    }
   ],
   "source": [
    "a.argmin()"
   ]
  },
  {
   "cell_type": "markdown",
   "id": "4546a6d6-8e9c-4698-a013-ff737901c164",
   "metadata": {},
   "source": [
    "# Argmax.argmin,argsort in axis"
   ]
  },
  {
   "cell_type": "code",
   "execution_count": 53,
   "id": "cd4b617b-7ced-4b1f-85b6-ca9e2ada6c7d",
   "metadata": {},
   "outputs": [
    {
     "data": {
      "text/plain": [
       "array([2, 1, 2], dtype=int64)"
      ]
     },
     "execution_count": 53,
     "metadata": {},
     "output_type": "execute_result"
    }
   ],
   "source": [
    "a.argmax(axis=0)"
   ]
  },
  {
   "cell_type": "code",
   "execution_count": 54,
   "id": "8e40ffc1-c7ed-4324-9f74-c60026b37601",
   "metadata": {},
   "outputs": [
    {
     "data": {
      "text/plain": [
       "array([2, 1, 2], dtype=int64)"
      ]
     },
     "execution_count": 54,
     "metadata": {},
     "output_type": "execute_result"
    }
   ],
   "source": [
    "a.argmax(axis=1)"
   ]
  },
  {
   "cell_type": "code",
   "execution_count": 55,
   "id": "7b7a6d67-a4de-4913-957e-f41b836e1aaf",
   "metadata": {},
   "outputs": [
    {
     "data": {
      "text/plain": [
       "array([0, 0, 0], dtype=int64)"
      ]
     },
     "execution_count": 55,
     "metadata": {},
     "output_type": "execute_result"
    }
   ],
   "source": [
    "a.argmin(axis=0)"
   ]
  },
  {
   "cell_type": "code",
   "execution_count": 56,
   "id": "61e15e43-152c-4d7c-9546-a3d960c7aeac",
   "metadata": {},
   "outputs": [
    {
     "data": {
      "text/plain": [
       "array([0, 0, 1], dtype=int64)"
      ]
     },
     "execution_count": 56,
     "metadata": {},
     "output_type": "execute_result"
    }
   ],
   "source": [
    "a.argmin(axis=1)"
   ]
  },
  {
   "cell_type": "code",
   "execution_count": 57,
   "id": "4d9cedff-40dd-42f7-b349-e3dbd11a7c42",
   "metadata": {},
   "outputs": [
    {
     "data": {
      "text/plain": [
       "array([[0, 1, 2],\n",
       "       [0, 2, 1],\n",
       "       [1, 0, 2]], dtype=int64)"
      ]
     },
     "execution_count": 57,
     "metadata": {},
     "output_type": "execute_result"
    }
   ],
   "source": [
    "a.argsort()"
   ]
  },
  {
   "cell_type": "code",
   "execution_count": 58,
   "id": "e559fbb0-de0a-49fb-95e6-b9550e3c1e29",
   "metadata": {},
   "outputs": [
    {
     "data": {
      "text/plain": [
       "array([[0, 0, 0],\n",
       "       [1, 2, 1],\n",
       "       [2, 1, 2]], dtype=int64)"
      ]
     },
     "execution_count": 58,
     "metadata": {},
     "output_type": "execute_result"
    }
   ],
   "source": [
    "a.argsort(axis=0)"
   ]
  },
  {
   "cell_type": "code",
   "execution_count": 59,
   "id": "38b7cd69-d24c-4f57-868f-1005ed4e9cde",
   "metadata": {},
   "outputs": [
    {
     "data": {
      "text/plain": [
       "array([[0, 1, 2],\n",
       "       [0, 2, 1],\n",
       "       [1, 0, 2]], dtype=int64)"
      ]
     },
     "execution_count": 59,
     "metadata": {},
     "output_type": "execute_result"
    }
   ],
   "source": [
    "a.argsort(axis=1)"
   ]
  },
  {
   "cell_type": "markdown",
   "id": "80cf8c71-44b5-433f-a7c3-763515ab1d87",
   "metadata": {},
   "source": [
    "***ravel() 1D to 2D***"
   ]
  },
  {
   "cell_type": "code",
   "execution_count": 60,
   "id": "54951a47-964f-4f84-b998-3ece0533d6cc",
   "metadata": {},
   "outputs": [
    {
     "data": {
      "text/plain": [
       "array([ 1,  2,  3,  4, 13,  6,  7,  4,  9])"
      ]
     },
     "execution_count": 60,
     "metadata": {},
     "output_type": "execute_result"
    }
   ],
   "source": [
    "a.ravel()"
   ]
  },
  {
   "cell_type": "code",
   "execution_count": 61,
   "id": "26628201-8009-41f5-8106-d3cc0d890701",
   "metadata": {},
   "outputs": [
    {
     "data": {
      "text/plain": [
       "array([ 1,  2,  3,  4, 13,  6,  7,  4,  9])"
      ]
     },
     "execution_count": 61,
     "metadata": {},
     "output_type": "execute_result"
    }
   ],
   "source": [
    "a.reshape(9,)"
   ]
  },
  {
   "cell_type": "markdown",
   "id": "7058a84b-ea02-47c6-a0ce-8f006f4e1d62",
   "metadata": {},
   "source": [
    "# Numpy array arithmetics"
   ]
  },
  {
   "cell_type": "code",
   "execution_count": 62,
   "id": "9bd0a534-ed00-4af8-ad57-16f35d2f5a0f",
   "metadata": {},
   "outputs": [
    {
     "data": {
      "text/plain": [
       "array([[ 1,  2,  3],\n",
       "       [ 4, 13,  6],\n",
       "       [ 7,  4,  9]])"
      ]
     },
     "execution_count": 62,
     "metadata": {},
     "output_type": "execute_result"
    }
   ],
   "source": [
    "a"
   ]
  },
  {
   "cell_type": "code",
   "execution_count": 63,
   "id": "663d4078-6586-4bbc-a69b-3e8fe5081012",
   "metadata": {},
   "outputs": [],
   "source": [
    "a1=np.array([[ 1,  4,  3],\n",
    "       [ 8, -4,  6],\n",
    "       [ 2,  4,  7]])"
   ]
  },
  {
   "cell_type": "code",
   "execution_count": 64,
   "id": "bdba10c0-d63d-409a-9591-ed85ff78b62a",
   "metadata": {},
   "outputs": [
    {
     "data": {
      "text/plain": [
       "array([[ 2,  6,  6],\n",
       "       [12,  9, 12],\n",
       "       [ 9,  8, 16]])"
      ]
     },
     "execution_count": 64,
     "metadata": {},
     "output_type": "execute_result"
    }
   ],
   "source": [
    "a+a1"
   ]
  },
  {
   "cell_type": "code",
   "execution_count": 65,
   "id": "83166f7d-d0da-406b-8501-25a6a0ed1e3c",
   "metadata": {},
   "outputs": [
    {
     "data": {
      "text/plain": [
       "array([[ 0, -2,  0],\n",
       "       [-4, 17,  0],\n",
       "       [ 5,  0,  2]])"
      ]
     },
     "execution_count": 65,
     "metadata": {},
     "output_type": "execute_result"
    }
   ],
   "source": [
    "a-a1"
   ]
  },
  {
   "cell_type": "code",
   "execution_count": 66,
   "id": "1d539a85-4ad3-44af-a762-2d3ccc949062",
   "metadata": {},
   "outputs": [
    {
     "data": {
      "text/plain": [
       "array([[  1,   8,   9],\n",
       "       [ 32, -52,  36],\n",
       "       [ 14,  16,  63]])"
      ]
     },
     "execution_count": 66,
     "metadata": {},
     "output_type": "execute_result"
    }
   ],
   "source": [
    "a*a1"
   ]
  },
  {
   "cell_type": "code",
   "execution_count": 67,
   "id": "49f218fc-9e04-4338-a80c-bc8c1c8e0efd",
   "metadata": {},
   "outputs": [
    {
     "data": {
      "text/plain": [
       "array([[ 1.        ,  0.5       ,  1.        ],\n",
       "       [ 0.5       , -3.25      ,  1.        ],\n",
       "       [ 3.5       ,  1.        ,  1.28571429]])"
      ]
     },
     "execution_count": 67,
     "metadata": {},
     "output_type": "execute_result"
    }
   ],
   "source": [
    "a/a1"
   ]
  },
  {
   "cell_type": "markdown",
   "id": "e513aec7-d22d-4037-ace5-74e8988e68a2",
   "metadata": {},
   "source": [
    "***Some methods in numpy array***"
   ]
  },
  {
   "cell_type": "code",
   "execution_count": 68,
   "id": "f4c15d90-b3e9-4ed1-bf42-dd5831557396",
   "metadata": {},
   "outputs": [
    {
     "data": {
      "text/plain": [
       "array([[1.        , 1.41421356, 1.73205081],\n",
       "       [2.        , 3.60555128, 2.44948974],\n",
       "       [2.64575131, 2.        , 3.        ]])"
      ]
     },
     "execution_count": 68,
     "metadata": {},
     "output_type": "execute_result"
    }
   ],
   "source": [
    "np.sqrt(a)"
   ]
  },
  {
   "cell_type": "code",
   "execution_count": 69,
   "id": "033ef55d-487f-4466-a1b6-e23e0b4cc5e5",
   "metadata": {},
   "outputs": [
    {
     "data": {
      "text/plain": [
       "49"
      ]
     },
     "execution_count": 69,
     "metadata": {},
     "output_type": "execute_result"
    }
   ],
   "source": [
    "a.sum()"
   ]
  },
  {
   "cell_type": "code",
   "execution_count": 70,
   "id": "d2808dd5-b665-4190-890a-48c6873e2759",
   "metadata": {},
   "outputs": [
    {
     "data": {
      "text/plain": [
       "13"
      ]
     },
     "execution_count": 70,
     "metadata": {},
     "output_type": "execute_result"
    }
   ],
   "source": [
    "a.max()"
   ]
  },
  {
   "cell_type": "code",
   "execution_count": 71,
   "id": "ce20e9a4-5853-4901-b0b7-a1d43a1e5862",
   "metadata": {},
   "outputs": [
    {
     "data": {
      "text/plain": [
       "1"
      ]
     },
     "execution_count": 71,
     "metadata": {},
     "output_type": "execute_result"
    }
   ],
   "source": [
    "a.min()"
   ]
  },
  {
   "cell_type": "markdown",
   "id": "5f83ad00-571b-45e9-a479-d97f16937922",
   "metadata": {},
   "source": [
    "***Finding an elements***"
   ]
  },
  {
   "cell_type": "code",
   "execution_count": 72,
   "id": "06c5b3cc-a0eb-46b4-b274-e61c6b20ab86",
   "metadata": {},
   "outputs": [
    {
     "data": {
      "text/plain": [
       "array([[ 1,  2,  3],\n",
       "       [ 4, 13,  6],\n",
       "       [ 7,  4,  9]])"
      ]
     },
     "execution_count": 72,
     "metadata": {},
     "output_type": "execute_result"
    }
   ],
   "source": [
    "a"
   ]
  },
  {
   "cell_type": "code",
   "execution_count": 73,
   "id": "dcacfa3a-ee20-47c3-86db-995698bad100",
   "metadata": {},
   "outputs": [
    {
     "data": {
      "text/plain": [
       "(array([1, 1, 2, 2], dtype=int64), array([1, 2, 0, 2], dtype=int64))"
      ]
     },
     "execution_count": 73,
     "metadata": {},
     "output_type": "execute_result"
    }
   ],
   "source": [
    "np.where(a>5)"
   ]
  },
  {
   "cell_type": "code",
   "execution_count": 74,
   "id": "67fbd685-6983-42e4-86b1-7cb4977be982",
   "metadata": {},
   "outputs": [
    {
     "data": {
      "text/plain": [
       "tuple"
      ]
     },
     "execution_count": 74,
     "metadata": {},
     "output_type": "execute_result"
    }
   ],
   "source": [
    "type(np.where(a>5))"
   ]
  },
  {
   "cell_type": "code",
   "execution_count": 75,
   "id": "f1afb48c-5426-4c13-a39a-9f4ef2329897",
   "metadata": {},
   "outputs": [
    {
     "data": {
      "text/plain": [
       "9"
      ]
     },
     "execution_count": 75,
     "metadata": {},
     "output_type": "execute_result"
    }
   ],
   "source": [
    "np.count_nonzero(a)"
   ]
  },
  {
   "cell_type": "code",
   "execution_count": 76,
   "id": "17705747-fb9d-488b-abf7-70755659468a",
   "metadata": {},
   "outputs": [
    {
     "data": {
      "text/plain": [
       "(array([0, 0, 0, 1, 1, 1, 2, 2, 2], dtype=int64),\n",
       " array([0, 1, 2, 0, 1, 2, 0, 1, 2], dtype=int64))"
      ]
     },
     "execution_count": 76,
     "metadata": {},
     "output_type": "execute_result"
    }
   ],
   "source": [
    "np.nonzero(a)"
   ]
  },
  {
   "cell_type": "markdown",
   "id": "edf74f29-7791-40f5-bf11-b3c08b5f8722",
   "metadata": {},
   "source": [
    "***Memory size in python array and numpy array***"
   ]
  },
  {
   "cell_type": "code",
   "execution_count": 77,
   "id": "10f241a2-ee9f-4ae9-8d0c-a81e64e91e93",
   "metadata": {},
   "outputs": [],
   "source": [
    "import sys"
   ]
  },
  {
   "cell_type": "code",
   "execution_count": 78,
   "id": "76e4f977-3757-46e1-9192-5c9c3abad823",
   "metadata": {},
   "outputs": [],
   "source": [
    "py_ar = [0,4,55,2]"
   ]
  },
  {
   "cell_type": "code",
   "execution_count": 79,
   "id": "c64062e6-28d7-474b-b0a3-d701a8259c2e",
   "metadata": {},
   "outputs": [],
   "source": [
    "np_ar =np.array(py_ar)"
   ]
  },
  {
   "cell_type": "code",
   "execution_count": 80,
   "id": "23f8f958-427e-426a-9f03-663485827785",
   "metadata": {},
   "outputs": [
    {
     "data": {
      "text/plain": [
       "112"
      ]
     },
     "execution_count": 80,
     "metadata": {},
     "output_type": "execute_result"
    }
   ],
   "source": [
    "sys.getsizeof(1)*len(py_ar)"
   ]
  },
  {
   "cell_type": "code",
   "execution_count": 81,
   "id": "5279666d-e0c0-455d-8210-8397d4374c18",
   "metadata": {},
   "outputs": [
    {
     "data": {
      "text/plain": [
       "16"
      ]
     },
     "execution_count": 81,
     "metadata": {},
     "output_type": "execute_result"
    }
   ],
   "source": [
    "np_ar.itemsize*np_ar.size"
   ]
  },
  {
   "cell_type": "markdown",
   "id": "53160502-8221-4aac-9dea-81f75aa9d1a6",
   "metadata": {},
   "source": [
    "# New"
   ]
  },
  {
   "cell_type": "code",
   "execution_count": 82,
   "id": "623097bc-be70-44c1-8532-408d8311c9b0",
   "metadata": {},
   "outputs": [
    {
     "name": "stdout",
     "output_type": "stream",
     "text": [
      "[[ 1  2  3]\n",
      " [ 4 13  6]\n",
      " [ 7  4  9]]\n"
     ]
    }
   ],
   "source": [
    "print(a)"
   ]
  },
  {
   "cell_type": "code",
   "execution_count": 83,
   "id": "57fbd284-b5e5-4fa7-9308-5ca760d5c234",
   "metadata": {},
   "outputs": [
    {
     "data": {
      "text/plain": [
       "6"
      ]
     },
     "execution_count": 83,
     "metadata": {},
     "output_type": "execute_result"
    }
   ],
   "source": [
    "# specific element [r,c]\n",
    "a[1,2]"
   ]
  },
  {
   "cell_type": "code",
   "execution_count": 84,
   "id": "03c74c5e-11ff-42d0-9069-2e6b01197bcf",
   "metadata": {},
   "outputs": [
    {
     "data": {
      "text/plain": [
       "array([7, 4, 9])"
      ]
     },
     "execution_count": 84,
     "metadata": {},
     "output_type": "execute_result"
    }
   ],
   "source": [
    "# specific row\n",
    "a[2, :]"
   ]
  },
  {
   "cell_type": "code",
   "execution_count": 85,
   "id": "c135e2d5-bbb2-4ccb-be66-b220c5741b0b",
   "metadata": {},
   "outputs": [
    {
     "data": {
      "text/plain": [
       "array([3, 6, 9])"
      ]
     },
     "execution_count": 85,
     "metadata": {},
     "output_type": "execute_result"
    }
   ],
   "source": [
    "# specific column\n",
    "a[:,2]"
   ]
  },
  {
   "cell_type": "code",
   "execution_count": 86,
   "id": "d44537a3-4e7a-4a1d-a036-3bad87ac4141",
   "metadata": {},
   "outputs": [
    {
     "name": "stdout",
     "output_type": "stream",
     "text": [
      "[[2 3 4 5 6 7 1 7 8]\n",
      " [2 4 7 8 9 1 4 7 5]\n",
      " [2 5 1 7 8 3 6 3 5]]\n"
     ]
    }
   ],
   "source": [
    "a1 = np.array([[2,3,4,5,6,7,1,7,8],[2,4,7,8,9,1,4,7,5],[2,5,1,7,8,3,6,3,5]])\n",
    "print(a1)"
   ]
  },
  {
   "cell_type": "code",
   "execution_count": 87,
   "id": "51515321-9f84-4935-ba59-03a6decee4dc",
   "metadata": {},
   "outputs": [
    {
     "data": {
      "text/plain": [
       "array([5, 7, 3])"
      ]
     },
     "execution_count": 87,
     "metadata": {},
     "output_type": "execute_result"
    }
   ],
   "source": [
    "# slicing [row,start_index:end_index:stepsize]\n",
    "a1[2,1:6:2]"
   ]
  },
  {
   "cell_type": "code",
   "execution_count": 88,
   "id": "a4c19771-2061-498b-ba0b-2cb5c3091a8e",
   "metadata": {},
   "outputs": [
    {
     "data": {
      "text/plain": [
       "array([5, 7, 3])"
      ]
     },
     "execution_count": 88,
     "metadata": {},
     "output_type": "execute_result"
    }
   ],
   "source": [
    "a1[2,1:-2:2]"
   ]
  },
  {
   "cell_type": "markdown",
   "id": "75dc664b-6233-431d-b42a-f3ac4481fd49",
   "metadata": {},
   "source": [
    "# 3D array"
   ]
  },
  {
   "cell_type": "code",
   "execution_count": 89,
   "id": "0912baf2-7384-4b46-98a1-dd42d1b61c16",
   "metadata": {},
   "outputs": [
    {
     "name": "stdout",
     "output_type": "stream",
     "text": [
      "[[[2 3 4 5 6 7 1 7 8]\n",
      "  [2 4 7 8 9 1 4 7 5]\n",
      "  [2 5 1 7 8 3 6 3 5]]]\n"
     ]
    }
   ],
   "source": [
    "a2 =  np.array([[[2,3,4,5,6,7,1,7,8],[2,4,7,8,9,1,4,7,5],[2,5,1,7,8,3,6,3,5]]])\n",
    "print(a2)"
   ]
  },
  {
   "cell_type": "code",
   "execution_count": 90,
   "id": "ce049ff4-9778-4ae0-a83a-47189c6c8098",
   "metadata": {},
   "outputs": [
    {
     "data": {
      "text/plain": [
       "3"
      ]
     },
     "execution_count": 90,
     "metadata": {},
     "output_type": "execute_result"
    }
   ],
   "source": [
    "a2.ndim"
   ]
  },
  {
   "cell_type": "code",
   "execution_count": 91,
   "id": "5c011a65-531d-442c-bda5-48481366de1b",
   "metadata": {},
   "outputs": [
    {
     "data": {
      "text/plain": [
       "2"
      ]
     },
     "execution_count": 91,
     "metadata": {},
     "output_type": "execute_result"
    }
   ],
   "source": [
    "a2[0,0,0]"
   ]
  },
  {
   "cell_type": "markdown",
   "id": "e29b9847-0268-4423-ae0b-d8e04084a748",
   "metadata": {},
   "source": [
    "***Any number array***"
   ]
  },
  {
   "cell_type": "code",
   "execution_count": 92,
   "id": "436499d8-371b-48bd-98fe-e4f1876b787a",
   "metadata": {},
   "outputs": [
    {
     "data": {
      "text/plain": [
       "array([[5, 5, 5],\n",
       "       [5, 5, 5],\n",
       "       [5, 5, 5]])"
      ]
     },
     "execution_count": 92,
     "metadata": {},
     "output_type": "execute_result"
    }
   ],
   "source": [
    "np.full((3,3),5)"
   ]
  },
  {
   "cell_type": "code",
   "execution_count": 93,
   "id": "d053802d-7384-4a36-8cc6-e298f5f3b6fa",
   "metadata": {},
   "outputs": [
    {
     "data": {
      "text/plain": [
       "array([[[6, 6, 6, 6, 6, 6, 6, 6, 6],\n",
       "        [6, 6, 6, 6, 6, 6, 6, 6, 6],\n",
       "        [6, 6, 6, 6, 6, 6, 6, 6, 6]]])"
      ]
     },
     "execution_count": 93,
     "metadata": {},
     "output_type": "execute_result"
    }
   ],
   "source": [
    "np.full_like(a2,6)"
   ]
  },
  {
   "cell_type": "code",
   "execution_count": 94,
   "id": "0c1c5639-788f-4926-bb60-eba132b081f4",
   "metadata": {},
   "outputs": [
    {
     "data": {
      "text/plain": [
       "array([[0.08594867, 0.87770129, 0.41321042, 0.70593093],\n",
       "       [0.87933816, 0.80799395, 0.94357624, 0.25982568]])"
      ]
     },
     "execution_count": 94,
     "metadata": {},
     "output_type": "execute_result"
    }
   ],
   "source": [
    "#Random decimal numbers\n",
    "np.random.rand(2,4)"
   ]
  },
  {
   "cell_type": "code",
   "execution_count": 95,
   "id": "7ea19168-db0b-4fa7-9315-e33dbf283391",
   "metadata": {},
   "outputs": [
    {
     "data": {
      "text/plain": [
       "array([[[0.16465121, 0.56011492, 0.92938377, 0.06876608, 0.04324307,\n",
       "         0.69474971, 0.41420757, 0.4403751 , 0.85718455],\n",
       "        [0.89480129, 0.63967213, 0.43744925, 0.18642393, 0.78144624,\n",
       "         0.55213208, 0.61825067, 0.09925813, 0.31493873],\n",
       "        [0.8895168 , 0.28811475, 0.46165309, 0.31187633, 0.61658112,\n",
       "         0.65353279, 0.43035586, 0.00184166, 0.8536521 ]]])"
      ]
     },
     "execution_count": 95,
     "metadata": {},
     "output_type": "execute_result"
    }
   ],
   "source": [
    "np.random.random_sample(a2.shape)"
   ]
  },
  {
   "cell_type": "code",
   "execution_count": 96,
   "id": "3975685b-430e-4657-903f-ded2262ad0d6",
   "metadata": {},
   "outputs": [
    {
     "data": {
      "text/plain": [
       "array([[6, 7, 7],\n",
       "       [7, 4, 7],\n",
       "       [5, 5, 7]])"
      ]
     },
     "execution_count": 96,
     "metadata": {},
     "output_type": "execute_result"
    }
   ],
   "source": [
    "# Random integer numbers\n",
    "np. random.randint(4,8, size=(3,3))"
   ]
  },
  {
   "cell_type": "code",
   "execution_count": 97,
   "id": "0b12ff0c-e57e-4600-9d37-0c490ae36b08",
   "metadata": {},
   "outputs": [
    {
     "name": "stdout",
     "output_type": "stream",
     "text": [
      "[1 1 1 2 2 2 3 3 3]\n"
     ]
    }
   ],
   "source": [
    "# reapeating\n",
    "\n",
    "arr = np.array([1,2,3])\n",
    "r1 = np.repeat(arr,3)\n",
    "print(r1)"
   ]
  },
  {
   "cell_type": "code",
   "execution_count": 98,
   "id": "893b9042-d849-49f3-858c-48665d92a4bc",
   "metadata": {},
   "outputs": [
    {
     "name": "stdout",
     "output_type": "stream",
     "text": [
      "[[1 2 3]\n",
      " [1 2 3]\n",
      " [1 2 3]]\n"
     ]
    }
   ],
   "source": [
    "arr = np.array([[1,2,3]])\n",
    "r1 = np.repeat(arr,3,axis=0)\n",
    "print(r1)"
   ]
  },
  {
   "cell_type": "code",
   "execution_count": 99,
   "id": "8287f481-0140-49b4-b90f-3190717afb82",
   "metadata": {},
   "outputs": [
    {
     "name": "stdout",
     "output_type": "stream",
     "text": [
      "[[1 1 1 2 2 2 3 3 3]]\n"
     ]
    }
   ],
   "source": [
    "arr = np.array([[1,2,3]])\n",
    "r1 = np.repeat(arr,3,axis=1)\n",
    "print(r1)"
   ]
  },
  {
   "cell_type": "markdown",
   "id": "82617c64-6fea-4829-bac0-a88e7bdca585",
   "metadata": {},
   "source": [
    "***Carefull when copying arrays***"
   ]
  },
  {
   "cell_type": "code",
   "execution_count": 100,
   "id": "7a151c58-6667-494f-bcd9-a79236d3bcb0",
   "metadata": {},
   "outputs": [
    {
     "name": "stdout",
     "output_type": "stream",
     "text": [
      "[10  2  3]\n"
     ]
    }
   ],
   "source": [
    "a = np.array([1,2,3])\n",
    "b=a\n",
    "b[0]=10\n",
    "print(a)\n",
    "# If we change b then automatically a would be changed"
   ]
  },
  {
   "cell_type": "code",
   "execution_count": 101,
   "id": "88b6d5e4-8ddf-448f-84e6-02c8898b9f4a",
   "metadata": {},
   "outputs": [
    {
     "name": "stdout",
     "output_type": "stream",
     "text": [
      "[1 2 3]\n"
     ]
    }
   ],
   "source": [
    "# Overcome this things\n",
    "a = np.array([1,2,3])\n",
    "b=a.copy()\n",
    "b[0]=10\n",
    "print(a)"
   ]
  },
  {
   "cell_type": "markdown",
   "id": "ab5d2455-47e8-4096-8be6-7ddcaa6afb04",
   "metadata": {},
   "source": [
    "# Array mathematics"
   ]
  },
  {
   "cell_type": "code",
   "execution_count": 104,
   "id": "7718cad2-df6a-4a6b-86ec-6a5de480fcdc",
   "metadata": {},
   "outputs": [
    {
     "name": "stdout",
     "output_type": "stream",
     "text": [
      "[1 2 3 4]\n"
     ]
    }
   ],
   "source": [
    "a = np.array([1,2,3,4])\n",
    "print(a)"
   ]
  },
  {
   "cell_type": "code",
   "execution_count": 105,
   "id": "b357ba01-a156-4fb1-824a-38efb14d646a",
   "metadata": {},
   "outputs": [
    {
     "data": {
      "text/plain": [
       "array([3, 4, 5, 6])"
      ]
     },
     "execution_count": 105,
     "metadata": {},
     "output_type": "execute_result"
    }
   ],
   "source": [
    "a +=2\n",
    "a"
   ]
  },
  {
   "cell_type": "code",
   "execution_count": 107,
   "id": "fd9ee452-5355-4a39-ae35-2a920c038c46",
   "metadata": {},
   "outputs": [
    {
     "data": {
      "text/plain": [
       "array([-1,  0,  1,  2])"
      ]
     },
     "execution_count": 107,
     "metadata": {},
     "output_type": "execute_result"
    }
   ],
   "source": [
    "a -=2\n",
    "a"
   ]
  },
  {
   "cell_type": "code",
   "execution_count": 111,
   "id": "ca624a19-bacb-4757-b5ef-d82016178980",
   "metadata": {},
   "outputs": [
    {
     "data": {
      "text/plain": [
       "array([-4,  0,  4,  8])"
      ]
     },
     "execution_count": 111,
     "metadata": {},
     "output_type": "execute_result"
    }
   ],
   "source": [
    "a *2\n"
   ]
  },
  {
   "cell_type": "code",
   "execution_count": 112,
   "id": "340e4115-14ad-4aca-bb36-6bec93d6805c",
   "metadata": {},
   "outputs": [
    {
     "data": {
      "text/plain": [
       "array([-1.,  0.,  1.,  2.])"
      ]
     },
     "execution_count": 112,
     "metadata": {},
     "output_type": "execute_result"
    }
   ],
   "source": [
    "a/2"
   ]
  },
  {
   "cell_type": "code",
   "execution_count": 114,
   "id": "bd5cedb0-a38c-4c77-9784-86be5779b728",
   "metadata": {},
   "outputs": [],
   "source": [
    "a = np.array([1,2,3,4])"
   ]
  },
  {
   "cell_type": "code",
   "execution_count": 115,
   "id": "6cec2d5c-737b-421c-a440-417df9264afe",
   "metadata": {},
   "outputs": [
    {
     "data": {
      "text/plain": [
       "array([ 1,  4,  9, 16])"
      ]
     },
     "execution_count": 115,
     "metadata": {},
     "output_type": "execute_result"
    }
   ],
   "source": [
    "a**2"
   ]
  },
  {
   "cell_type": "markdown",
   "id": "cadbdc73-8bde-400c-830e-1c02f4e4dc77",
   "metadata": {},
   "source": [
    "***Trigonometry sin cos***\n"
   ]
  },
  {
   "cell_type": "code",
   "execution_count": 117,
   "id": "42dbf4b7-9688-44b8-9506-3db4c4354bb8",
   "metadata": {},
   "outputs": [
    {
     "data": {
      "text/plain": [
       "array([ 0.84147098,  0.90929743,  0.14112001, -0.7568025 ])"
      ]
     },
     "execution_count": 117,
     "metadata": {},
     "output_type": "execute_result"
    }
   ],
   "source": [
    "np.sin(a)"
   ]
  },
  {
   "cell_type": "code",
   "execution_count": 118,
   "id": "7a65cc4d-c584-4846-b40e-abc9d5970430",
   "metadata": {},
   "outputs": [
    {
     "data": {
      "text/plain": [
       "array([ 0.54030231, -0.41614684, -0.9899925 , -0.65364362])"
      ]
     },
     "execution_count": 118,
     "metadata": {},
     "output_type": "execute_result"
    }
   ],
   "source": [
    "np.cos(a)"
   ]
  },
  {
   "cell_type": "markdown",
   "id": "1e23c4cd-1b5b-4a92-a1d4-050c561bec90",
   "metadata": {},
   "source": [
    "# Linear Algebra"
   ]
  },
  {
   "cell_type": "code",
   "execution_count": 121,
   "id": "68caf9be-2e1b-4d4a-a8b9-02344e1b6be1",
   "metadata": {},
   "outputs": [
    {
     "name": "stdout",
     "output_type": "stream",
     "text": [
      "[[1. 1. 1.]\n",
      " [1. 1. 1.]]\n",
      "[[2 2]\n",
      " [2 2]\n",
      " [2 2]]\n"
     ]
    }
   ],
   "source": [
    "a = np.ones((2,3))\n",
    "print(a)\n",
    "\n",
    "b=np.full((3,2),2)\n",
    "print(b)"
   ]
  },
  {
   "cell_type": "code",
   "execution_count": 123,
   "id": "1b2ad4ee-0a9e-4215-b27b-9a1fc0c9d1fc",
   "metadata": {},
   "outputs": [
    {
     "data": {
      "text/plain": [
       "array([[6., 6.],\n",
       "       [6., 6.]])"
      ]
     },
     "execution_count": 123,
     "metadata": {},
     "output_type": "execute_result"
    }
   ],
   "source": [
    "# Matrix Multiplication\n",
    "np.matmul(a,b)"
   ]
  },
  {
   "cell_type": "code",
   "execution_count": 127,
   "id": "530e68ea-58df-4ab2-aed3-27f25623739c",
   "metadata": {},
   "outputs": [
    {
     "data": {
      "text/plain": [
       "24.000000000000014"
      ]
     },
     "execution_count": 127,
     "metadata": {},
     "output_type": "execute_result"
    }
   ],
   "source": [
    "# Find the determinent\n",
    "a=np.array([[1,2,3],[9,4,5],[9,7,8]])\n",
    "np.linalg.det(a)\n",
    "           "
   ]
  },
  {
   "cell_type": "code",
   "execution_count": 128,
   "id": "b56e38f7-3cab-46b9-ba53-387a87123d1e",
   "metadata": {},
   "outputs": [
    {
     "data": {
      "text/plain": [
       "1.0"
      ]
     },
     "execution_count": 128,
     "metadata": {},
     "output_type": "execute_result"
    }
   ],
   "source": [
    "c=np.identity(3)\n",
    "np.linalg.det(c)"
   ]
  },
  {
   "cell_type": "code",
   "execution_count": 132,
   "id": "1383f093-71ad-4588-8095-d3655bfc85da",
   "metadata": {},
   "outputs": [
    {
     "data": {
      "text/plain": [
       "array([[1, 2, 3, 4],\n",
       "       [5, 6, 7, 8],\n",
       "       [5, 6, 7, 8],\n",
       "       [5, 6, 7, 8],\n",
       "       [1, 2, 3, 4]])"
      ]
     },
     "execution_count": 132,
     "metadata": {},
     "output_type": "execute_result"
    }
   ],
   "source": [
    " # Vertically stacing vectors\n",
    "v1=np.array([1,2,3,4])\n",
    "v2=np.array([5,6,7,8])\n",
    "\n",
    "np.vstack([v1,v2,v2,v2,v1])"
   ]
  },
  {
   "cell_type": "code",
   "execution_count": 133,
   "id": "a64293a7-2f50-4ac6-8342-1e4e738d36e4",
   "metadata": {},
   "outputs": [
    {
     "data": {
      "text/plain": [
       "array([1, 2, 3, 4, 5, 6, 7, 8, 5, 6, 7, 8, 5, 6, 7, 8, 1, 2, 3, 4])"
      ]
     },
     "execution_count": 133,
     "metadata": {},
     "output_type": "execute_result"
    }
   ],
   "source": [
    " # Horizontally stacing vectors\n",
    "v1=np.array([1,2,3,4])\n",
    "v2=np.array([5,6,7,8])\n",
    "\n",
    "np.hstack([v1,v2,v2,v2,v1])"
   ]
  },
  {
   "cell_type": "markdown",
   "id": "1a415b40-84fd-4bac-8303-0af4fc1a2c9c",
   "metadata": {},
   "source": [
    "# Load Data from file"
   ]
  },
  {
   "cell_type": "code",
   "execution_count": 135,
   "id": "13bbb744-21e4-4437-b06a-46e8fd7a4bd4",
   "metadata": {},
   "outputs": [
    {
     "data": {
      "text/plain": [
       "array([[  1.,  13.,  21.,  11., 196.,  75.,   4.,   3.,  34.,   6.,   7.,\n",
       "          8.,   0.,   1.,   2.,   3.,   4.,   5.],\n",
       "       [  3.,  42.,  12.,  33., 766.,  75.,   4.,  55.,   6.,   4.,   3.,\n",
       "          4.,   5.,   6.,   7.,   0.,  11.,  12.],\n",
       "       [  1.,  22.,  33.,  11., 999.,  11.,   2.,   1.,  78.,   0.,   1.,\n",
       "          2.,   9.,   8.,   7.,   1.,  76.,  88.]])"
      ]
     },
     "execution_count": 135,
     "metadata": {},
     "output_type": "execute_result"
    }
   ],
   "source": [
    "filedata=np.genfromtxt('data.txt',delimiter=',')\n",
    "filedata"
   ]
  },
  {
   "cell_type": "code",
   "execution_count": 136,
   "id": "f08d3e0e-a449-41e5-a7b9-0fee024ce9f3",
   "metadata": {},
   "outputs": [
    {
     "data": {
      "text/plain": [
       "array([[  1,  13,  21,  11, 196,  75,   4,   3,  34,   6,   7,   8,   0,\n",
       "          1,   2,   3,   4,   5],\n",
       "       [  3,  42,  12,  33, 766,  75,   4,  55,   6,   4,   3,   4,   5,\n",
       "          6,   7,   0,  11,  12],\n",
       "       [  1,  22,  33,  11, 999,  11,   2,   1,  78,   0,   1,   2,   9,\n",
       "          8,   7,   1,  76,  88]])"
      ]
     },
     "execution_count": 136,
     "metadata": {},
     "output_type": "execute_result"
    }
   ],
   "source": [
    "filedata.astype('int32')"
   ]
  },
  {
   "cell_type": "markdown",
   "id": "76cb3019-51bd-4263-9903-a9a748d667fd",
   "metadata": {},
   "source": [
    "# Boolean Masking and Advanced Indexing"
   ]
  },
  {
   "cell_type": "code",
   "execution_count": 137,
   "id": "c9dd5020-948b-401f-85a2-cec94d6f24f4",
   "metadata": {},
   "outputs": [
    {
     "data": {
      "text/plain": [
       "array([[False, False, False, False,  True,  True, False, False, False,\n",
       "        False, False, False, False, False, False, False, False, False],\n",
       "       [False, False, False, False,  True,  True, False,  True, False,\n",
       "        False, False, False, False, False, False, False, False, False],\n",
       "       [False, False, False, False,  True, False, False, False,  True,\n",
       "        False, False, False, False, False, False, False,  True,  True]])"
      ]
     },
     "execution_count": 137,
     "metadata": {},
     "output_type": "execute_result"
    }
   ],
   "source": [
    "filedata>50"
   ]
  },
  {
   "cell_type": "code",
   "execution_count": 139,
   "id": "1f97e8f5-7593-4b13-83eb-018a2567652f",
   "metadata": {},
   "outputs": [
    {
     "data": {
      "text/plain": [
       "array([196.,  75., 766.,  75.,  55., 999.,  78.,  76.,  88.])"
      ]
     },
     "execution_count": 139,
     "metadata": {},
     "output_type": "execute_result"
    }
   ],
   "source": [
    "filedata[filedata>50]"
   ]
  },
  {
   "cell_type": "code",
   "execution_count": 143,
   "id": "206a3f51-16dc-4871-af24-370352cd2b5a",
   "metadata": {},
   "outputs": [
    {
     "data": {
      "text/plain": [
       "array([2, 3, 9])"
      ]
     },
     "execution_count": 143,
     "metadata": {},
     "output_type": "execute_result"
    }
   ],
   "source": [
    "# We can index with a list in Numpy\n",
    "a=np.array([1,2,3,4,5,6,7,8,9])\n",
    "a[[1,2,8]]"
   ]
  },
  {
   "cell_type": "code",
   "execution_count": 144,
   "id": "331515ff-15ce-4838-8d32-6ed3b92b76a4",
   "metadata": {},
   "outputs": [
    {
     "data": {
      "text/plain": [
       "array([False, False, False, False,  True,  True, False,  True,  True,\n",
       "       False, False, False, False, False, False, False,  True,  True])"
      ]
     },
     "execution_count": 144,
     "metadata": {},
     "output_type": "execute_result"
    }
   ],
   "source": [
    "np.any(filedata>50,axis=0)"
   ]
  },
  {
   "cell_type": "code",
   "execution_count": 145,
   "id": "70bf01a5-c327-4939-be31-d765d026c614",
   "metadata": {},
   "outputs": [
    {
     "data": {
      "text/plain": [
       "array([ True,  True,  True])"
      ]
     },
     "execution_count": 145,
     "metadata": {},
     "output_type": "execute_result"
    }
   ],
   "source": [
    "np.any(filedata>50,axis=1)"
   ]
  },
  {
   "cell_type": "code",
   "execution_count": 146,
   "id": "a7da30a6-37b3-40dc-87cd-4b13ac39958a",
   "metadata": {},
   "outputs": [
    {
     "data": {
      "text/plain": [
       "array([False, False, False, False,  True, False, False, False, False,\n",
       "       False, False, False, False, False, False, False, False, False])"
      ]
     },
     "execution_count": 146,
     "metadata": {},
     "output_type": "execute_result"
    }
   ],
   "source": [
    "np.all(filedata>50,axis=0)"
   ]
  },
  {
   "cell_type": "code",
   "execution_count": 147,
   "id": "b9fdf0ae-7cdf-4948-9211-4ddfbe34c3c4",
   "metadata": {},
   "outputs": [
    {
     "data": {
      "text/plain": [
       "array([False, False, False])"
      ]
     },
     "execution_count": 147,
     "metadata": {},
     "output_type": "execute_result"
    }
   ],
   "source": [
    "np.all(filedata>50,axis=1)"
   ]
  },
  {
   "cell_type": "code",
   "execution_count": 149,
   "id": "881249cc-d2cc-49f3-aa51-78d13c47d67e",
   "metadata": {},
   "outputs": [
    {
     "data": {
      "text/plain": [
       "array([[False, False, False, False, False,  True, False, False, False,\n",
       "        False, False, False, False, False, False, False, False, False],\n",
       "       [False, False, False, False, False,  True, False,  True, False,\n",
       "        False, False, False, False, False, False, False, False, False],\n",
       "       [False, False, False, False, False, False, False, False,  True,\n",
       "        False, False, False, False, False, False, False,  True,  True]])"
      ]
     },
     "execution_count": 149,
     "metadata": {},
     "output_type": "execute_result"
    }
   ],
   "source": [
    "((filedata>50) & (filedata<100))"
   ]
  },
  {
   "cell_type": "code",
   "execution_count": null,
   "id": "b4fa4f55-ccd0-4885-970b-4e581d850743",
   "metadata": {},
   "outputs": [],
   "source": []
  }
 ],
 "metadata": {
  "kernelspec": {
   "display_name": "Python 3 (ipykernel)",
   "language": "python",
   "name": "python3"
  },
  "language_info": {
   "codemirror_mode": {
    "name": "ipython",
    "version": 3
   },
   "file_extension": ".py",
   "mimetype": "text/x-python",
   "name": "python",
   "nbconvert_exporter": "python",
   "pygments_lexer": "ipython3",
   "version": "3.12.2"
  }
 },
 "nbformat": 4,
 "nbformat_minor": 5
}
