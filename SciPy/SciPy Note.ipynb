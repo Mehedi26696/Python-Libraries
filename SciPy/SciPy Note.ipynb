{
 "cells": [
  {
   "cell_type": "markdown",
   "id": "cc09711e-a048-40b9-bc78-72bbc2e644a0",
   "metadata": {},
   "source": [
    "# Welcome to SciPy"
   ]
  },
  {
   "cell_type": "markdown",
   "id": "a4fb191b-42e8-4c27-8c65-38b132762a99",
   "metadata": {},
   "source": [
    "# Constants"
   ]
  },
  {
   "cell_type": "markdown",
   "id": "521aab1c-71f2-4227-a5d5-396d8576b645",
   "metadata": {},
   "source": [
    "***Constants in scipy: scipy is more focused on scientific impelementions, it provides many built in scientific constants: helpful in data science.***"
   ]
  },
  {
   "cell_type": "code",
   "execution_count": 1,
   "id": "0679b03d-5c3b-4bd4-adb3-913d7cc25e02",
   "metadata": {},
   "outputs": [],
   "source": [
    "from scipy import constants"
   ]
  },
  {
   "cell_type": "code",
   "execution_count": 2,
   "id": "5f45d5e5-748a-46b1-8248-f9e848d85e7a",
   "metadata": {},
   "outputs": [
    {
     "name": "stdout",
     "output_type": "stream",
     "text": [
      "3.141592653589793\n"
     ]
    }
   ],
   "source": [
    "# printing the constant value of PI:\n",
    "print(constants.pi) "
   ]
  },
  {
   "cell_type": "markdown",
   "id": "30dc0a97-9d59-4e16-bcb9-657a06877353",
   "metadata": {},
   "source": [
    "***Constants unit:  all list of unit under the constant can be seen with dir() function.***"
   ]
  },
  {
   "cell_type": "code",
   "execution_count": 3,
   "id": "f27c7838-7a12-43b8-b3df-eb4c5de9a276",
   "metadata": {},
   "outputs": [
    {
     "name": "stdout",
     "output_type": "stream",
     "text": [
      "['Avogadro', 'Boltzmann', 'Btu', 'Btu_IT', 'Btu_th', 'ConstantWarning', 'G', 'Julian_year', 'N_A', 'Planck', 'R', 'Rydberg', 'Stefan_Boltzmann', 'Wien', '__all__', '__builtins__', '__cached__', '__doc__', '__file__', '__loader__', '__name__', '__package__', '__path__', '__spec__', '_codata', '_constants', '_obsolete_constants', 'acre', 'alpha', 'angstrom', 'arcmin', 'arcminute', 'arcsec', 'arcsecond', 'astronomical_unit', 'atm', 'atmosphere', 'atomic_mass', 'atto', 'au', 'bar', 'barrel', 'bbl', 'blob', 'c', 'calorie', 'calorie_IT', 'calorie_th', 'carat', 'centi', 'codata', 'constants', 'convert_temperature', 'day', 'deci', 'degree', 'degree_Fahrenheit', 'deka', 'dyn', 'dyne', 'e', 'eV', 'electron_mass', 'electron_volt', 'elementary_charge', 'epsilon_0', 'erg', 'exa', 'exbi', 'femto', 'fermi', 'find', 'fine_structure', 'fluid_ounce', 'fluid_ounce_US', 'fluid_ounce_imp', 'foot', 'g', 'gallon', 'gallon_US', 'gallon_imp', 'gas_constant', 'gibi', 'giga', 'golden', 'golden_ratio', 'grain', 'gram', 'gravitational_constant', 'h', 'hbar', 'hectare', 'hecto', 'horsepower', 'hour', 'hp', 'inch', 'k', 'kgf', 'kibi', 'kilo', 'kilogram_force', 'kmh', 'knot', 'lambda2nu', 'lb', 'lbf', 'light_year', 'liter', 'litre', 'long_ton', 'm_e', 'm_n', 'm_p', 'm_u', 'mach', 'mebi', 'mega', 'metric_ton', 'micro', 'micron', 'mil', 'mile', 'milli', 'minute', 'mmHg', 'mph', 'mu_0', 'nano', 'nautical_mile', 'neutron_mass', 'nu2lambda', 'ounce', 'oz', 'parsec', 'pebi', 'peta', 'physical_constants', 'pi', 'pico', 'point', 'pound', 'pound_force', 'precision', 'proton_mass', 'psi', 'pt', 'quecto', 'quetta', 'ronna', 'ronto', 'short_ton', 'sigma', 'slinch', 'slug', 'speed_of_light', 'speed_of_sound', 'stone', 'survey_foot', 'survey_mile', 'tebi', 'tera', 'test', 'ton_TNT', 'torr', 'troy_ounce', 'troy_pound', 'u', 'unit', 'value', 'week', 'yard', 'year', 'yobi', 'yocto', 'yotta', 'zebi', 'zepto', 'zero_Celsius', 'zetta']\n"
     ]
    }
   ],
   "source": [
    "print(dir(constants))"
   ]
  },
  {
   "cell_type": "markdown",
   "id": "5072b372-392f-4e69-bced-0ad8f5376c95",
   "metadata": {},
   "source": [
    "***Unit Categories: Metric, Binary, Mass, Angle, Time, Length, Pressure, Volume, Speed, Temprature, Energy, Power, Force.***"
   ]
  },
  {
   "cell_type": "markdown",
   "id": "9b931380-2091-404a-bf53-e70961761bb4",
   "metadata": {},
   "source": [
    "***Metric (SI) Prefixes:***"
   ]
  },
  {
   "cell_type": "code",
   "execution_count": 4,
   "id": "07de37fd-5924-4474-9db2-07e0ea86af06",
   "metadata": {},
   "outputs": [
    {
     "name": "stdout",
     "output_type": "stream",
     "text": [
      "1e+24\n"
     ]
    }
   ],
   "source": [
    "print(constants.yotta)"
   ]
  },
  {
   "cell_type": "code",
   "execution_count": 5,
   "id": "d1587d0c-b623-4c27-ac23-3fe0f400fdcb",
   "metadata": {},
   "outputs": [
    {
     "name": "stdout",
     "output_type": "stream",
     "text": [
      "1e+21\n"
     ]
    }
   ],
   "source": [
    "print(constants.zetta)"
   ]
  },
  {
   "cell_type": "code",
   "execution_count": 6,
   "id": "1266e497-fca3-453d-bada-cdd263dd9782",
   "metadata": {},
   "outputs": [
    {
     "name": "stdout",
     "output_type": "stream",
     "text": [
      "1e+18\n"
     ]
    }
   ],
   "source": [
    "print(constants.exa)"
   ]
  },
  {
   "cell_type": "code",
   "execution_count": 7,
   "id": "45862f2f-905e-402b-952d-b63d7128fd67",
   "metadata": {},
   "outputs": [
    {
     "name": "stdout",
     "output_type": "stream",
     "text": [
      "1000000000000000.0\n"
     ]
    }
   ],
   "source": [
    "print(constants.peta)"
   ]
  },
  {
   "cell_type": "code",
   "execution_count": 8,
   "id": "91f3f2da-f344-4928-b574-abcf9ec2c8e7",
   "metadata": {},
   "outputs": [
    {
     "name": "stdout",
     "output_type": "stream",
     "text": [
      "1000000000000.0\n"
     ]
    }
   ],
   "source": [
    "print(constants.tera)"
   ]
  },
  {
   "cell_type": "code",
   "execution_count": 9,
   "id": "74f48085-354d-4281-a544-09855689a04f",
   "metadata": {},
   "outputs": [
    {
     "name": "stdout",
     "output_type": "stream",
     "text": [
      "1000000000.0\n"
     ]
    }
   ],
   "source": [
    "print(constants.giga)"
   ]
  },
  {
   "cell_type": "code",
   "execution_count": 10,
   "id": "712ed0d7-04c0-4ecb-b663-2a381b76402c",
   "metadata": {},
   "outputs": [
    {
     "name": "stdout",
     "output_type": "stream",
     "text": [
      "1000000.0\n"
     ]
    }
   ],
   "source": [
    "print(constants.mega)"
   ]
  },
  {
   "cell_type": "code",
   "execution_count": 11,
   "id": "420b1aeb-a289-46b9-b855-dbe57895740a",
   "metadata": {},
   "outputs": [
    {
     "name": "stdout",
     "output_type": "stream",
     "text": [
      "1000.0\n"
     ]
    }
   ],
   "source": [
    "print(constants.kilo)"
   ]
  },
  {
   "cell_type": "code",
   "execution_count": 12,
   "id": "567c0a47-2bf6-42b7-9f43-ed5fab6ea496",
   "metadata": {},
   "outputs": [
    {
     "name": "stdout",
     "output_type": "stream",
     "text": [
      "100.0\n"
     ]
    }
   ],
   "source": [
    "print(constants.hecto)"
   ]
  },
  {
   "cell_type": "code",
   "execution_count": 13,
   "id": "a219acb7-db69-43be-8a0d-d75102f3b357",
   "metadata": {},
   "outputs": [
    {
     "name": "stdout",
     "output_type": "stream",
     "text": [
      "10.0\n"
     ]
    }
   ],
   "source": [
    "print(constants.deka)"
   ]
  },
  {
   "cell_type": "code",
   "execution_count": 14,
   "id": "cc8549f7-db42-4020-a4c1-64bea73fc2c5",
   "metadata": {},
   "outputs": [
    {
     "name": "stdout",
     "output_type": "stream",
     "text": [
      "0.1\n"
     ]
    }
   ],
   "source": [
    "print(constants.deci)"
   ]
  },
  {
   "cell_type": "code",
   "execution_count": 15,
   "id": "b43819e0-cad5-4866-b20c-b54a95bdeb49",
   "metadata": {},
   "outputs": [
    {
     "name": "stdout",
     "output_type": "stream",
     "text": [
      "0.01\n"
     ]
    }
   ],
   "source": [
    "print(constants.centi)"
   ]
  },
  {
   "cell_type": "code",
   "execution_count": 16,
   "id": "31337c6c-390a-46c2-b58b-e58bb5614ace",
   "metadata": {},
   "outputs": [
    {
     "name": "stdout",
     "output_type": "stream",
     "text": [
      "0.001\n"
     ]
    }
   ],
   "source": [
    "print(constants.milli)"
   ]
  },
  {
   "cell_type": "code",
   "execution_count": 17,
   "id": "27126c2a-b288-475b-8c23-6b26cf22e4b4",
   "metadata": {},
   "outputs": [
    {
     "name": "stdout",
     "output_type": "stream",
     "text": [
      "1e-06\n"
     ]
    }
   ],
   "source": [
    "print(constants.micro)"
   ]
  },
  {
   "cell_type": "code",
   "execution_count": 18,
   "id": "0cc0c5c0-6001-48e3-bc71-1a71974d3210",
   "metadata": {},
   "outputs": [
    {
     "name": "stdout",
     "output_type": "stream",
     "text": [
      "1e-09\n"
     ]
    }
   ],
   "source": [
    "print(constants.nano)"
   ]
  },
  {
   "cell_type": "code",
   "execution_count": 19,
   "id": "9285be3d-33ce-4bde-ba85-be1cfd0e42a6",
   "metadata": {},
   "outputs": [
    {
     "name": "stdout",
     "output_type": "stream",
     "text": [
      "1e-12\n"
     ]
    }
   ],
   "source": [
    "print(constants.pico)"
   ]
  },
  {
   "cell_type": "code",
   "execution_count": 20,
   "id": "12966f96-50b1-413e-8b8e-d0138a8143c2",
   "metadata": {},
   "outputs": [
    {
     "name": "stdout",
     "output_type": "stream",
     "text": [
      "1e-15\n"
     ]
    }
   ],
   "source": [
    "print(constants.femto)"
   ]
  },
  {
   "cell_type": "code",
   "execution_count": 21,
   "id": "743fc07d-e1a2-433f-affb-130395871a62",
   "metadata": {},
   "outputs": [
    {
     "name": "stdout",
     "output_type": "stream",
     "text": [
      "1e-18\n"
     ]
    }
   ],
   "source": [
    "print(constants.atto)"
   ]
  },
  {
   "cell_type": "code",
   "execution_count": 22,
   "id": "8cf12ccd-35db-44aa-9626-ae7a10552dee",
   "metadata": {},
   "outputs": [
    {
     "name": "stdout",
     "output_type": "stream",
     "text": [
      "1e-21\n"
     ]
    }
   ],
   "source": [
    "print(constants.zepto)"
   ]
  },
  {
   "cell_type": "markdown",
   "id": "0d202bb1-12a7-4357-b4af-831c0e266729",
   "metadata": {},
   "source": [
    "***Binary Prefixes :***"
   ]
  },
  {
   "cell_type": "code",
   "execution_count": 23,
   "id": "d14e77c2-a338-4b50-9a79-aa509eba4250",
   "metadata": {},
   "outputs": [
    {
     "name": "stdout",
     "output_type": "stream",
     "text": [
      "1024\n"
     ]
    }
   ],
   "source": [
    "print(constants.kibi)"
   ]
  },
  {
   "cell_type": "code",
   "execution_count": 24,
   "id": "129c6f33-214b-4698-8a87-d73f280cff5b",
   "metadata": {},
   "outputs": [
    {
     "name": "stdout",
     "output_type": "stream",
     "text": [
      "1048576\n"
     ]
    }
   ],
   "source": [
    "print(constants.mebi)"
   ]
  },
  {
   "cell_type": "code",
   "execution_count": 25,
   "id": "4101ad48-3e5f-423c-9e4e-fc84d7a91f74",
   "metadata": {},
   "outputs": [
    {
     "name": "stdout",
     "output_type": "stream",
     "text": [
      "1073741824\n"
     ]
    }
   ],
   "source": [
    "print(constants.gibi)"
   ]
  },
  {
   "cell_type": "code",
   "execution_count": 26,
   "id": "a013be8a-22d7-464b-b24a-8614f99472d8",
   "metadata": {},
   "outputs": [
    {
     "name": "stdout",
     "output_type": "stream",
     "text": [
      "1099511627776\n"
     ]
    }
   ],
   "source": [
    "print(constants.tebi)"
   ]
  },
  {
   "cell_type": "code",
   "execution_count": 27,
   "id": "84d01b03-1046-4e2f-acfc-4f89b207964c",
   "metadata": {},
   "outputs": [
    {
     "name": "stdout",
     "output_type": "stream",
     "text": [
      "1125899906842624\n"
     ]
    }
   ],
   "source": [
    "print(constants.pebi)"
   ]
  },
  {
   "cell_type": "code",
   "execution_count": 28,
   "id": "8104500a-9dde-47c7-be3d-5296481a0573",
   "metadata": {},
   "outputs": [
    {
     "name": "stdout",
     "output_type": "stream",
     "text": [
      "1152921504606846976\n"
     ]
    }
   ],
   "source": [
    "print(constants.exbi)"
   ]
  },
  {
   "cell_type": "code",
   "execution_count": 29,
   "id": "793e00c3-92c2-4b19-a4cd-daa6754a30bb",
   "metadata": {},
   "outputs": [
    {
     "name": "stdout",
     "output_type": "stream",
     "text": [
      "1180591620717411303424\n"
     ]
    }
   ],
   "source": [
    "print(constants.zebi)"
   ]
  },
  {
   "cell_type": "code",
   "execution_count": 30,
   "id": "fe177f00-cb9f-463e-ada1-4ca0c8495ce5",
   "metadata": {},
   "outputs": [
    {
     "name": "stdout",
     "output_type": "stream",
     "text": [
      "1208925819614629174706176\n"
     ]
    }
   ],
   "source": [
    "print(constants.yobi)"
   ]
  },
  {
   "cell_type": "markdown",
   "id": "7185000b-82f5-4568-ab93-23aa3973a6df",
   "metadata": {},
   "source": [
    "***MASS :***"
   ]
  },
  {
   "cell_type": "code",
   "execution_count": 31,
   "id": "d0bc4675-c3c6-47d5-9f18-83f21d4cfe29",
   "metadata": {},
   "outputs": [
    {
     "name": "stdout",
     "output_type": "stream",
     "text": [
      "0.001\n"
     ]
    }
   ],
   "source": [
    "print(constants.gram)"
   ]
  },
  {
   "cell_type": "code",
   "execution_count": 32,
   "id": "a54022aa-153c-48f2-a05f-f7faf5b9f3b5",
   "metadata": {},
   "outputs": [
    {
     "name": "stdout",
     "output_type": "stream",
     "text": [
      "1000.0\n"
     ]
    }
   ],
   "source": [
    "print(constants.metric_ton)"
   ]
  },
  {
   "cell_type": "code",
   "execution_count": 33,
   "id": "32a610bb-9242-4788-8f2d-05a86939cbd5",
   "metadata": {},
   "outputs": [
    {
     "name": "stdout",
     "output_type": "stream",
     "text": [
      "6.479891e-05\n"
     ]
    }
   ],
   "source": [
    "print(constants.grain)"
   ]
  },
  {
   "cell_type": "code",
   "execution_count": 34,
   "id": "c2e2d211-ad99-455a-8b41-3b2688e0af17",
   "metadata": {},
   "outputs": [
    {
     "name": "stdout",
     "output_type": "stream",
     "text": [
      "0.45359236999999997\n"
     ]
    }
   ],
   "source": [
    "print(constants.lb)"
   ]
  },
  {
   "cell_type": "code",
   "execution_count": 35,
   "id": "105daf1e-9afe-48b0-8611-70096b15e3ce",
   "metadata": {},
   "outputs": [
    {
     "name": "stdout",
     "output_type": "stream",
     "text": [
      "0.45359236999999997\n"
     ]
    }
   ],
   "source": [
    "print(constants.pound)"
   ]
  },
  {
   "cell_type": "code",
   "execution_count": 36,
   "id": "a7db0933-ea71-4a95-9528-c9fa6a6ba536",
   "metadata": {},
   "outputs": [
    {
     "name": "stdout",
     "output_type": "stream",
     "text": [
      "0.028349523124999998\n"
     ]
    }
   ],
   "source": [
    "print(constants.oz)"
   ]
  },
  {
   "cell_type": "code",
   "execution_count": 37,
   "id": "d389e97a-6adb-4838-8993-b9610d31082f",
   "metadata": {},
   "outputs": [
    {
     "name": "stdout",
     "output_type": "stream",
     "text": [
      "0.028349523124999998\n"
     ]
    }
   ],
   "source": [
    "print(constants.ounce)"
   ]
  },
  {
   "cell_type": "code",
   "execution_count": 38,
   "id": "7cc05abf-8158-473e-9089-610b12d9ad38",
   "metadata": {},
   "outputs": [
    {
     "name": "stdout",
     "output_type": "stream",
     "text": [
      "6.3502931799999995\n"
     ]
    }
   ],
   "source": [
    "print(constants.stone)"
   ]
  },
  {
   "cell_type": "code",
   "execution_count": 39,
   "id": "d0600341-f28e-4972-9c14-efdc19b6d482",
   "metadata": {},
   "outputs": [
    {
     "name": "stdout",
     "output_type": "stream",
     "text": [
      "1016.0469088\n"
     ]
    }
   ],
   "source": [
    "print(constants.long_ton)"
   ]
  },
  {
   "cell_type": "code",
   "execution_count": 40,
   "id": "cacf8327-b856-442b-9d73-ee098495ec77",
   "metadata": {},
   "outputs": [
    {
     "name": "stdout",
     "output_type": "stream",
     "text": [
      "907.1847399999999\n"
     ]
    }
   ],
   "source": [
    "print(constants.short_ton)"
   ]
  },
  {
   "cell_type": "code",
   "execution_count": 41,
   "id": "4a07c776-a70f-43ef-8518-1ff1dcc7240f",
   "metadata": {},
   "outputs": [
    {
     "name": "stdout",
     "output_type": "stream",
     "text": [
      "0.031103476799999998\n"
     ]
    }
   ],
   "source": [
    "print(constants.troy_ounce)"
   ]
  },
  {
   "cell_type": "code",
   "execution_count": 42,
   "id": "ddeca170-fe17-46aa-be92-3c4c77d2e2e3",
   "metadata": {},
   "outputs": [
    {
     "name": "stdout",
     "output_type": "stream",
     "text": [
      "0.37324172159999996\n"
     ]
    }
   ],
   "source": [
    "print(constants.troy_pound)"
   ]
  },
  {
   "cell_type": "code",
   "execution_count": 43,
   "id": "9d4adc6f-af3e-489a-be31-f91a7558dc5f",
   "metadata": {},
   "outputs": [
    {
     "name": "stdout",
     "output_type": "stream",
     "text": [
      "0.0002\n"
     ]
    }
   ],
   "source": [
    "print(constants.carat)"
   ]
  },
  {
   "cell_type": "code",
   "execution_count": 44,
   "id": "9bd3ee97-8ac9-47e4-afaf-1cb2c5e4a472",
   "metadata": {},
   "outputs": [
    {
     "name": "stdout",
     "output_type": "stream",
     "text": [
      "1.6605390666e-27\n"
     ]
    }
   ],
   "source": [
    "print(constants.atomic_mass)"
   ]
  },
  {
   "cell_type": "code",
   "execution_count": 45,
   "id": "31bd126e-0c6b-4290-b6ce-b237167767e6",
   "metadata": {},
   "outputs": [
    {
     "name": "stdout",
     "output_type": "stream",
     "text": [
      "1.6605390666e-27\n"
     ]
    }
   ],
   "source": [
    "print(constants.m_u)"
   ]
  },
  {
   "cell_type": "code",
   "execution_count": 46,
   "id": "8dad75e1-549e-4bd3-97fc-dfbab8470181",
   "metadata": {},
   "outputs": [
    {
     "name": "stdout",
     "output_type": "stream",
     "text": [
      "1.6605390666e-27\n"
     ]
    }
   ],
   "source": [
    "print(constants.u)"
   ]
  },
  {
   "cell_type": "markdown",
   "id": "210e2315-3137-4018-aaa3-18456ca4ebde",
   "metadata": {},
   "source": [
    "***Time :***"
   ]
  },
  {
   "cell_type": "code",
   "execution_count": 47,
   "id": "a271cd37-0c16-4942-b05f-bc0a1efba187",
   "metadata": {},
   "outputs": [
    {
     "name": "stdout",
     "output_type": "stream",
     "text": [
      "60.0\n"
     ]
    }
   ],
   "source": [
    "print(constants.minute)"
   ]
  },
  {
   "cell_type": "code",
   "execution_count": 48,
   "id": "465f315b-8009-444b-bd99-7cd5e48b167e",
   "metadata": {},
   "outputs": [
    {
     "name": "stdout",
     "output_type": "stream",
     "text": [
      "3600.0\n"
     ]
    }
   ],
   "source": [
    "print(constants.hour)"
   ]
  },
  {
   "cell_type": "code",
   "execution_count": 49,
   "id": "584d3030-20e5-46d4-938f-db4f9fe15c3b",
   "metadata": {},
   "outputs": [
    {
     "name": "stdout",
     "output_type": "stream",
     "text": [
      "86400.0\n"
     ]
    }
   ],
   "source": [
    "print(constants.day)"
   ]
  },
  {
   "cell_type": "code",
   "execution_count": 50,
   "id": "261b30e6-22ec-471d-9459-224f9702d3bb",
   "metadata": {},
   "outputs": [
    {
     "name": "stdout",
     "output_type": "stream",
     "text": [
      "604800.0\n"
     ]
    }
   ],
   "source": [
    "print(constants.week)"
   ]
  },
  {
   "cell_type": "code",
   "execution_count": 51,
   "id": "9a6faa87-22b7-4527-ba6f-4fe62be0aec5",
   "metadata": {},
   "outputs": [
    {
     "name": "stdout",
     "output_type": "stream",
     "text": [
      "31536000.0\n"
     ]
    }
   ],
   "source": [
    "print(constants.year)"
   ]
  },
  {
   "cell_type": "code",
   "execution_count": 52,
   "id": "ae097c73-0849-4c76-8481-66730bcd5826",
   "metadata": {},
   "outputs": [
    {
     "name": "stdout",
     "output_type": "stream",
     "text": [
      "31557600.0\n"
     ]
    }
   ],
   "source": [
    "print(constants.Julian_year)"
   ]
  },
  {
   "cell_type": "markdown",
   "id": "7a55adde-a426-43e4-8e8f-c7ab68cd337a",
   "metadata": {},
   "source": [
    "***Angle :***"
   ]
  },
  {
   "cell_type": "code",
   "execution_count": 53,
   "id": "1c986fde-c0c5-40d0-99ea-a28695670ff5",
   "metadata": {},
   "outputs": [
    {
     "name": "stdout",
     "output_type": "stream",
     "text": [
      "0.017453292519943295\n"
     ]
    }
   ],
   "source": [
    "print(constants.degree)"
   ]
  },
  {
   "cell_type": "code",
   "execution_count": 54,
   "id": "c977896c-3745-44b6-958b-90d1642fcb05",
   "metadata": {},
   "outputs": [
    {
     "name": "stdout",
     "output_type": "stream",
     "text": [
      "0.0002908882086657216\n"
     ]
    }
   ],
   "source": [
    "print(constants.arcmin)"
   ]
  },
  {
   "cell_type": "code",
   "execution_count": 55,
   "id": "c75b3b70-08ba-4bf5-b9a3-7eb0c6da5a1d",
   "metadata": {},
   "outputs": [
    {
     "name": "stdout",
     "output_type": "stream",
     "text": [
      "0.0002908882086657216\n"
     ]
    }
   ],
   "source": [
    "print(constants.arcminute)"
   ]
  },
  {
   "cell_type": "code",
   "execution_count": 56,
   "id": "57b8af91-976e-4cd0-8e01-cc0902d1b935",
   "metadata": {},
   "outputs": [
    {
     "name": "stdout",
     "output_type": "stream",
     "text": [
      "4.84813681109536e-06\n"
     ]
    }
   ],
   "source": [
    "print(constants.arcsec)"
   ]
  },
  {
   "cell_type": "code",
   "execution_count": 57,
   "id": "c6c626e0-4efc-4ebc-a542-1eeaf50f4894",
   "metadata": {},
   "outputs": [
    {
     "name": "stdout",
     "output_type": "stream",
     "text": [
      "4.84813681109536e-06\n"
     ]
    }
   ],
   "source": [
    "print(constants.arcsecond)"
   ]
  },
  {
   "cell_type": "markdown",
   "id": "6554a1e0-d7fe-4c52-bb4c-1809545b8317",
   "metadata": {},
   "source": [
    "***Length :***"
   ]
  },
  {
   "cell_type": "code",
   "execution_count": 58,
   "id": "1d87337c-5831-4855-9eae-3fadf77579f7",
   "metadata": {},
   "outputs": [
    {
     "name": "stdout",
     "output_type": "stream",
     "text": [
      "0.0254\n"
     ]
    }
   ],
   "source": [
    "print(constants.inch)"
   ]
  },
  {
   "cell_type": "code",
   "execution_count": 59,
   "id": "8817aca8-b318-4d9a-85c4-1cccc5b447bc",
   "metadata": {},
   "outputs": [
    {
     "name": "stdout",
     "output_type": "stream",
     "text": [
      "0.30479999999999996\n"
     ]
    }
   ],
   "source": [
    "print(constants.foot)"
   ]
  },
  {
   "cell_type": "code",
   "execution_count": 60,
   "id": "e8466813-c9f7-4fdb-b368-f65f09b819ae",
   "metadata": {},
   "outputs": [
    {
     "name": "stdout",
     "output_type": "stream",
     "text": [
      "0.9143999999999999\n"
     ]
    }
   ],
   "source": [
    "print(constants.yard)"
   ]
  },
  {
   "cell_type": "code",
   "execution_count": 61,
   "id": "5c569ac1-ffff-4099-92bd-5ce3b0511d19",
   "metadata": {},
   "outputs": [
    {
     "name": "stdout",
     "output_type": "stream",
     "text": [
      "1609.3439999999998\n"
     ]
    }
   ],
   "source": [
    "print(constants.mile)"
   ]
  },
  {
   "cell_type": "code",
   "execution_count": 62,
   "id": "69d3f9f3-29ce-4f0d-956c-1ee230732bc7",
   "metadata": {},
   "outputs": [
    {
     "name": "stdout",
     "output_type": "stream",
     "text": [
      "2.5399999999999997e-05\n"
     ]
    }
   ],
   "source": [
    "print(constants.mil)"
   ]
  },
  {
   "cell_type": "code",
   "execution_count": 63,
   "id": "7f983a73-0237-4ede-92d7-9d7ce02b833e",
   "metadata": {},
   "outputs": [
    {
     "name": "stdout",
     "output_type": "stream",
     "text": [
      "0.00035277777777777776\n"
     ]
    }
   ],
   "source": [
    "print(constants.pt)"
   ]
  },
  {
   "cell_type": "code",
   "execution_count": 64,
   "id": "adf68028-0d8a-4aa3-88b3-f7d4da59bafe",
   "metadata": {},
   "outputs": [
    {
     "name": "stdout",
     "output_type": "stream",
     "text": [
      "0.00035277777777777776\n"
     ]
    }
   ],
   "source": [
    "print(constants.point)"
   ]
  },
  {
   "cell_type": "code",
   "execution_count": 65,
   "id": "1d1b4a68-5c2e-4c76-ac19-34f86fcb4665",
   "metadata": {},
   "outputs": [
    {
     "name": "stdout",
     "output_type": "stream",
     "text": [
      "0.3048006096012192\n"
     ]
    }
   ],
   "source": [
    "print(constants.survey_foot)"
   ]
  },
  {
   "cell_type": "code",
   "execution_count": 66,
   "id": "6d4e5dd9-f349-43bb-bca4-895716eb8783",
   "metadata": {},
   "outputs": [
    {
     "name": "stdout",
     "output_type": "stream",
     "text": [
      "1609.3472186944373\n"
     ]
    }
   ],
   "source": [
    "print(constants.survey_mile)"
   ]
  },
  {
   "cell_type": "code",
   "execution_count": 67,
   "id": "730bcdb3-a5af-4007-bd9e-c070480f16fe",
   "metadata": {},
   "outputs": [
    {
     "name": "stdout",
     "output_type": "stream",
     "text": [
      "1852.0\n"
     ]
    }
   ],
   "source": [
    "print(constants.nautical_mile)"
   ]
  },
  {
   "cell_type": "code",
   "execution_count": 68,
   "id": "720a39b2-cb69-43d1-a2b7-1dc888b1a78a",
   "metadata": {},
   "outputs": [
    {
     "name": "stdout",
     "output_type": "stream",
     "text": [
      "1e-15\n"
     ]
    }
   ],
   "source": [
    "print(constants.fermi)"
   ]
  },
  {
   "cell_type": "code",
   "execution_count": 69,
   "id": "7e72ef06-98c6-46e8-bc59-72851e239c10",
   "metadata": {},
   "outputs": [
    {
     "name": "stdout",
     "output_type": "stream",
     "text": [
      "1e-10\n"
     ]
    }
   ],
   "source": [
    "print(constants.angstrom)"
   ]
  },
  {
   "cell_type": "code",
   "execution_count": 70,
   "id": "8c8f2ccb-3a06-47ad-87b5-f3cba439a775",
   "metadata": {},
   "outputs": [
    {
     "name": "stdout",
     "output_type": "stream",
     "text": [
      "1e-06\n"
     ]
    }
   ],
   "source": [
    "print(constants.micron)"
   ]
  },
  {
   "cell_type": "code",
   "execution_count": 71,
   "id": "9b68e86e-7df9-4d43-9e84-a36fe06569b4",
   "metadata": {},
   "outputs": [
    {
     "name": "stdout",
     "output_type": "stream",
     "text": [
      "149597870700.0\n"
     ]
    }
   ],
   "source": [
    "print(constants.au)"
   ]
  },
  {
   "cell_type": "code",
   "execution_count": 72,
   "id": "3e9f8bfa-4418-4450-beee-2da4501beab7",
   "metadata": {},
   "outputs": [
    {
     "name": "stdout",
     "output_type": "stream",
     "text": [
      "149597870700.0\n"
     ]
    }
   ],
   "source": [
    "print(constants.astronomical_unit)"
   ]
  },
  {
   "cell_type": "code",
   "execution_count": 73,
   "id": "5ede9b15-a89a-4284-90b7-66f21e4b1274",
   "metadata": {},
   "outputs": [
    {
     "name": "stdout",
     "output_type": "stream",
     "text": [
      "9460730472580800.0\n"
     ]
    }
   ],
   "source": [
    "print(constants.light_year)"
   ]
  },
  {
   "cell_type": "code",
   "execution_count": 74,
   "id": "f2549478-71c3-4d7e-abff-ac84b9aa8409",
   "metadata": {},
   "outputs": [
    {
     "name": "stdout",
     "output_type": "stream",
     "text": [
      "3.085677581491367e+16\n"
     ]
    }
   ],
   "source": [
    "print(constants.parsec)"
   ]
  },
  {
   "cell_type": "markdown",
   "id": "6a67bee4-6351-4e32-b0d0-52c17612a6a9",
   "metadata": {},
   "source": [
    "***Pressure : pascals***"
   ]
  },
  {
   "cell_type": "code",
   "execution_count": 75,
   "id": "874f808d-1043-4b67-a625-9382f2b6357b",
   "metadata": {},
   "outputs": [
    {
     "name": "stdout",
     "output_type": "stream",
     "text": [
      "101325.0\n"
     ]
    }
   ],
   "source": [
    "print(constants.atm)"
   ]
  },
  {
   "cell_type": "code",
   "execution_count": 76,
   "id": "eb43249f-b95f-4b3b-a7bb-4c7da142b842",
   "metadata": {},
   "outputs": [
    {
     "name": "stdout",
     "output_type": "stream",
     "text": [
      "101325.0\n"
     ]
    }
   ],
   "source": [
    "print(constants.atmosphere)"
   ]
  },
  {
   "cell_type": "code",
   "execution_count": 77,
   "id": "ba8fe817-36ad-44fe-869c-3c322d0f97ed",
   "metadata": {},
   "outputs": [
    {
     "name": "stdout",
     "output_type": "stream",
     "text": [
      "100000.0\n"
     ]
    }
   ],
   "source": [
    "print(constants.bar)"
   ]
  },
  {
   "cell_type": "code",
   "execution_count": 78,
   "id": "d39ceae2-2e77-4d31-b8ff-bdd75d9f3f5e",
   "metadata": {},
   "outputs": [
    {
     "name": "stdout",
     "output_type": "stream",
     "text": [
      "133.32236842105263\n"
     ]
    }
   ],
   "source": [
    "print(constants.torr)"
   ]
  },
  {
   "cell_type": "code",
   "execution_count": 79,
   "id": "dc1b443a-db44-446c-b5bb-d337a19cfb8e",
   "metadata": {},
   "outputs": [
    {
     "name": "stdout",
     "output_type": "stream",
     "text": [
      "133.32236842105263\n"
     ]
    }
   ],
   "source": [
    "print(constants.mmHg)"
   ]
  },
  {
   "cell_type": "code",
   "execution_count": 80,
   "id": "3b71632c-b5ed-4c8d-9c8b-b637224c655e",
   "metadata": {},
   "outputs": [
    {
     "name": "stdout",
     "output_type": "stream",
     "text": [
      "6894.757293168361\n"
     ]
    }
   ],
   "source": [
    "print(constants.psi)"
   ]
  },
  {
   "cell_type": "markdown",
   "id": "621f8434-986f-4746-b02b-a73c4f9939e3",
   "metadata": {},
   "source": [
    "***Volume: cubic meter***"
   ]
  },
  {
   "cell_type": "code",
   "execution_count": 81,
   "id": "bee5d397-427c-423e-b3c9-fa93c312f1df",
   "metadata": {},
   "outputs": [
    {
     "name": "stdout",
     "output_type": "stream",
     "text": [
      "0.001\n"
     ]
    }
   ],
   "source": [
    "print(constants.liter)"
   ]
  },
  {
   "cell_type": "code",
   "execution_count": 82,
   "id": "19129dcf-9031-49f8-ac64-c2f14abb75c8",
   "metadata": {},
   "outputs": [
    {
     "name": "stdout",
     "output_type": "stream",
     "text": [
      "0.001\n"
     ]
    }
   ],
   "source": [
    "print(constants.litre)"
   ]
  },
  {
   "cell_type": "code",
   "execution_count": 83,
   "id": "43085f64-6beb-4832-976e-277564d99685",
   "metadata": {},
   "outputs": [
    {
     "name": "stdout",
     "output_type": "stream",
     "text": [
      "0.0037854117839999997\n"
     ]
    }
   ],
   "source": [
    "print(constants.gallon)"
   ]
  },
  {
   "cell_type": "code",
   "execution_count": 84,
   "id": "91161688-a4dd-494e-a3b9-62e20af1d521",
   "metadata": {},
   "outputs": [
    {
     "name": "stdout",
     "output_type": "stream",
     "text": [
      "0.0037854117839999997\n"
     ]
    }
   ],
   "source": [
    "print(constants.gallon_US)"
   ]
  },
  {
   "cell_type": "code",
   "execution_count": 85,
   "id": "72cd7528-ef1e-4f50-8efc-9b2fb60da3e5",
   "metadata": {},
   "outputs": [
    {
     "name": "stdout",
     "output_type": "stream",
     "text": [
      "0.00454609\n"
     ]
    }
   ],
   "source": [
    "print(constants.gallon_imp)"
   ]
  },
  {
   "cell_type": "code",
   "execution_count": 86,
   "id": "292973b9-ee5b-43c3-84d7-d777cfbdaa37",
   "metadata": {},
   "outputs": [
    {
     "name": "stdout",
     "output_type": "stream",
     "text": [
      "2.9573529562499998e-05\n"
     ]
    }
   ],
   "source": [
    "print(constants.fluid_ounce)"
   ]
  },
  {
   "cell_type": "code",
   "execution_count": 87,
   "id": "607e7316-adb4-4449-b7bb-547c8946d7ba",
   "metadata": {},
   "outputs": [
    {
     "name": "stdout",
     "output_type": "stream",
     "text": [
      "2.9573529562499998e-05\n"
     ]
    }
   ],
   "source": [
    "print(constants.fluid_ounce_US)"
   ]
  },
  {
   "cell_type": "code",
   "execution_count": 88,
   "id": "b6906b7b-b5e7-44d7-acad-2760ffd33af6",
   "metadata": {},
   "outputs": [
    {
     "name": "stdout",
     "output_type": "stream",
     "text": [
      "2.84130625e-05\n"
     ]
    }
   ],
   "source": [
    "print(constants.fluid_ounce_imp)"
   ]
  },
  {
   "cell_type": "code",
   "execution_count": 89,
   "id": "2be30813-ed03-4811-b354-0a8c62189ed7",
   "metadata": {},
   "outputs": [
    {
     "name": "stdout",
     "output_type": "stream",
     "text": [
      "0.15898729492799998\n"
     ]
    }
   ],
   "source": [
    "print(constants.barrel)"
   ]
  },
  {
   "cell_type": "code",
   "execution_count": 90,
   "id": "7b256785-14d8-4c7f-bcca-8e419a451d23",
   "metadata": {},
   "outputs": [
    {
     "name": "stdout",
     "output_type": "stream",
     "text": [
      "0.15898729492799998\n"
     ]
    }
   ],
   "source": [
    "print(constants.bbl)"
   ]
  },
  {
   "cell_type": "markdown",
   "id": "7a60f503-ae6b-4f0e-bc95-c42bf4c7d9ce",
   "metadata": {},
   "source": [
    "***Speed: meter per sec***"
   ]
  },
  {
   "cell_type": "code",
   "execution_count": 91,
   "id": "4bcf6ba7-cf76-455c-b62f-0765a3dc132b",
   "metadata": {},
   "outputs": [
    {
     "name": "stdout",
     "output_type": "stream",
     "text": [
      "0.2777777777777778\n"
     ]
    }
   ],
   "source": [
    "print(constants.kmh)"
   ]
  },
  {
   "cell_type": "code",
   "execution_count": 92,
   "id": "e97c26ff-dd85-41e9-a024-63a1e4622298",
   "metadata": {},
   "outputs": [
    {
     "name": "stdout",
     "output_type": "stream",
     "text": [
      "0.44703999999999994\n"
     ]
    }
   ],
   "source": [
    "print(constants.mph)"
   ]
  },
  {
   "cell_type": "code",
   "execution_count": 93,
   "id": "25d6a270-3df9-42f3-bc89-602dac9b2b23",
   "metadata": {},
   "outputs": [
    {
     "name": "stdout",
     "output_type": "stream",
     "text": [
      "340.5\n"
     ]
    }
   ],
   "source": [
    "print(constants.mach)"
   ]
  },
  {
   "cell_type": "code",
   "execution_count": 94,
   "id": "16b036e7-858c-401e-b9d7-e53c417f5053",
   "metadata": {},
   "outputs": [
    {
     "name": "stdout",
     "output_type": "stream",
     "text": [
      "340.5\n"
     ]
    }
   ],
   "source": [
    "print(constants.speed_of_sound)"
   ]
  },
  {
   "cell_type": "code",
   "execution_count": 95,
   "id": "6c1e0858-6746-4c95-aa2d-29002f3d4988",
   "metadata": {},
   "outputs": [
    {
     "name": "stdout",
     "output_type": "stream",
     "text": [
      "0.5144444444444445\n"
     ]
    }
   ],
   "source": [
    "print(constants.knot)"
   ]
  },
  {
   "cell_type": "markdown",
   "id": "864bedcb-bdbe-403c-87bc-3070db3117f2",
   "metadata": {},
   "source": [
    "***Energy: joules***"
   ]
  },
  {
   "cell_type": "code",
   "execution_count": 96,
   "id": "e2f74f06-3002-42b7-b01f-4a57ea515ff7",
   "metadata": {},
   "outputs": [
    {
     "name": "stdout",
     "output_type": "stream",
     "text": [
      "1.602176634e-19\n"
     ]
    }
   ],
   "source": [
    "print(constants.eV)"
   ]
  },
  {
   "cell_type": "code",
   "execution_count": 97,
   "id": "e44280c7-7ba4-47dd-9ded-ef258ef6c9ed",
   "metadata": {},
   "outputs": [
    {
     "name": "stdout",
     "output_type": "stream",
     "text": [
      "1.602176634e-19\n"
     ]
    }
   ],
   "source": [
    "print(constants.electron_volt)"
   ]
  },
  {
   "cell_type": "code",
   "execution_count": 98,
   "id": "66768340-28c6-4ba7-bd57-f673f99062cc",
   "metadata": {},
   "outputs": [
    {
     "name": "stdout",
     "output_type": "stream",
     "text": [
      "4.184\n"
     ]
    }
   ],
   "source": [
    "print(constants.calorie)"
   ]
  },
  {
   "cell_type": "code",
   "execution_count": 99,
   "id": "e9523bab-af5f-4749-a063-b3c49740ff03",
   "metadata": {},
   "outputs": [
    {
     "name": "stdout",
     "output_type": "stream",
     "text": [
      "4.184\n"
     ]
    }
   ],
   "source": [
    "print(constants.calorie_th)"
   ]
  },
  {
   "cell_type": "code",
   "execution_count": 100,
   "id": "da53110c-2b02-45c4-ae29-2b88cbfca10a",
   "metadata": {},
   "outputs": [
    {
     "name": "stdout",
     "output_type": "stream",
     "text": [
      "4.1868\n"
     ]
    }
   ],
   "source": [
    "print(constants.calorie_IT)"
   ]
  },
  {
   "cell_type": "code",
   "execution_count": 101,
   "id": "dff6538b-6205-46d2-b384-02d9e2ff1ee7",
   "metadata": {},
   "outputs": [
    {
     "name": "stdout",
     "output_type": "stream",
     "text": [
      "1e-07\n"
     ]
    }
   ],
   "source": [
    "print(constants.erg)"
   ]
  },
  {
   "cell_type": "code",
   "execution_count": 102,
   "id": "86898847-fa83-4ff7-84cc-6375afa64cd9",
   "metadata": {},
   "outputs": [
    {
     "name": "stdout",
     "output_type": "stream",
     "text": [
      "1055.05585262\n"
     ]
    }
   ],
   "source": [
    "print(constants.Btu)"
   ]
  },
  {
   "cell_type": "code",
   "execution_count": 103,
   "id": "61e2948a-ac76-482f-ae8f-e516e8a6f8ed",
   "metadata": {},
   "outputs": [
    {
     "name": "stdout",
     "output_type": "stream",
     "text": [
      "1055.05585262\n"
     ]
    }
   ],
   "source": [
    "print(constants.Btu_IT)"
   ]
  },
  {
   "cell_type": "code",
   "execution_count": 104,
   "id": "96842ef1-d5d4-4f8a-bee5-6297f1c22ea2",
   "metadata": {},
   "outputs": [
    {
     "name": "stdout",
     "output_type": "stream",
     "text": [
      "1054.3502644888888\n"
     ]
    }
   ],
   "source": [
    "print(constants.Btu_th)"
   ]
  },
  {
   "cell_type": "code",
   "execution_count": 105,
   "id": "574a2032-8cb3-4bfe-81f8-ac6595db6dba",
   "metadata": {},
   "outputs": [
    {
     "name": "stdout",
     "output_type": "stream",
     "text": [
      "4184000000.0\n"
     ]
    }
   ],
   "source": [
    "print(constants.ton_TNT)"
   ]
  },
  {
   "cell_type": "markdown",
   "id": "21ea928d-9325-449c-901e-a74a7fa1ef67",
   "metadata": {},
   "source": [
    "***Power : Newton***"
   ]
  },
  {
   "cell_type": "code",
   "execution_count": 106,
   "id": "a690bded-bb6d-44f3-a484-5298dd5b6088",
   "metadata": {},
   "outputs": [
    {
     "name": "stdout",
     "output_type": "stream",
     "text": [
      "1e-05\n"
     ]
    }
   ],
   "source": [
    "print(constants.dyn)"
   ]
  },
  {
   "cell_type": "code",
   "execution_count": 107,
   "id": "32dd8cca-e45d-4389-9d4c-a9fda6c7a6bc",
   "metadata": {},
   "outputs": [
    {
     "name": "stdout",
     "output_type": "stream",
     "text": [
      "1e-05\n"
     ]
    }
   ],
   "source": [
    "print(constants.dyne)"
   ]
  },
  {
   "cell_type": "code",
   "execution_count": 108,
   "id": "37c318dd-2eae-44d0-9ee5-e5b7afb712f2",
   "metadata": {},
   "outputs": [
    {
     "name": "stdout",
     "output_type": "stream",
     "text": [
      "4.4482216152605\n"
     ]
    }
   ],
   "source": [
    "print(constants.lbf)"
   ]
  },
  {
   "cell_type": "code",
   "execution_count": 109,
   "id": "7b6649f0-164d-4c7d-8045-5be392c2254e",
   "metadata": {},
   "outputs": [
    {
     "name": "stdout",
     "output_type": "stream",
     "text": [
      "4.4482216152605\n"
     ]
    }
   ],
   "source": [
    "print(constants.pound_force)"
   ]
  },
  {
   "cell_type": "code",
   "execution_count": 110,
   "id": "be4ba101-aff5-4d91-9a01-a78b31f222e6",
   "metadata": {},
   "outputs": [
    {
     "name": "stdout",
     "output_type": "stream",
     "text": [
      "9.80665\n"
     ]
    }
   ],
   "source": [
    "print(constants.kgf)"
   ]
  },
  {
   "cell_type": "code",
   "execution_count": 111,
   "id": "eaafb263-66b3-42ed-9c35-805492dfb26d",
   "metadata": {},
   "outputs": [
    {
     "name": "stdout",
     "output_type": "stream",
     "text": [
      "9.80665\n"
     ]
    }
   ],
   "source": [
    "print(constants.kilogram_force)"
   ]
  },
  {
   "cell_type": "markdown",
   "id": "cb1f3c06-a221-4f9f-bd33-5611750dc2cf",
   "metadata": {},
   "source": [
    "# Optimizer"
   ]
  },
  {
   "cell_type": "code",
   "execution_count": 112,
   "id": "14b7776c-ec1b-4e88-b7bc-5b07b90bbef6",
   "metadata": {},
   "outputs": [],
   "source": [
    "# OPtimizers in SCipy: they are a set of procedures defined in scipy that either find the minimum value of a function or a root of an equation.\n",
    "# optimizing function: all the algorithms which helps in minimizing the data.\n",
    "# Root of an equation: x + cos(x), we will solve it via optimize.root function. \n",
    "# this function takes 2 arguments: \"fun\" and x0\n",
    "# example: here we will find the root of the equation x + cos(x) :"
   ]
  },
  {
   "cell_type": "code",
   "execution_count": 113,
   "id": "a9e85b5d-9003-47db-91be-8290a9fb60d7",
   "metadata": {},
   "outputs": [],
   "source": [
    "from scipy.optimize import root"
   ]
  },
  {
   "cell_type": "code",
   "execution_count": 114,
   "id": "b1a96428-b69d-4182-aa91-dc6d51a7eb9d",
   "metadata": {},
   "outputs": [],
   "source": [
    "from math import cos"
   ]
  },
  {
   "cell_type": "code",
   "execution_count": 115,
   "id": "fb0c742e-57d2-4370-b488-94a396f50e48",
   "metadata": {},
   "outputs": [
    {
     "name": "stdout",
     "output_type": "stream",
     "text": [
      "[-0.73908513]\n"
     ]
    },
    {
     "name": "stderr",
     "output_type": "stream",
     "text": [
      "C:\\Users\\Hp\\AppData\\Local\\Temp\\ipykernel_19700\\1261632647.py:2: DeprecationWarning: Conversion of an array with ndim > 0 to a scalar is deprecated, and will error in future. Ensure you extract a single element from your array before performing this operation. (Deprecated NumPy 1.25.)\n",
      "  return x+cos(x)\n"
     ]
    }
   ],
   "source": [
    "def eqn(x):\n",
    "    return x+cos(x)\n",
    "myroot = root(eqn,0)\n",
    "print(myroot.x)"
   ]
  },
  {
   "cell_type": "code",
   "execution_count": 116,
   "id": "a4e4d224-671e-4059-9b8c-225ba9e21503",
   "metadata": {},
   "outputs": [
    {
     "name": "stdout",
     "output_type": "stream",
     "text": [
      " message: The solution converged.\n",
      " success: True\n",
      "  status: 1\n",
      "     fun: [ 0.000e+00]\n",
      "       x: [-7.391e-01]\n",
      "  method: hybr\n",
      "    nfev: 9\n",
      "    fjac: [[-1.000e+00]]\n",
      "       r: [-1.674e+00]\n",
      "     qtf: [-2.668e-13]\n"
     ]
    },
    {
     "name": "stderr",
     "output_type": "stream",
     "text": [
      "C:\\Users\\Hp\\AppData\\Local\\Temp\\ipykernel_19700\\2184624450.py:3: DeprecationWarning: Conversion of an array with ndim > 0 to a scalar is deprecated, and will error in future. Ensure you extract a single element from your array before performing this operation. (Deprecated NumPy 1.25.)\n",
      "  return x + cos(x)\n"
     ]
    }
   ],
   "source": [
    "# here we want the info about not just x but the whole root:\n",
    "def eqn(x):\n",
    "    return x + cos(x)\n",
    "myroot = root(eqn, 0)\n",
    "print(myroot)"
   ]
  },
  {
   "cell_type": "code",
   "execution_count": 117,
   "id": "7cb83ac5-6757-4b5c-873f-da053a8fe3b9",
   "metadata": {},
   "outputs": [],
   "source": [
    "# Minimizing the Function or data:\n",
    "# high points are called maxima and low points are called minima.\n",
    "# finding the Minima:\n",
    "# we use scipy.optimize.minimize(). it uses 3 arguments: \"fun\", x0 and method:it also has some legal values: \"CG\", \"BFGS\", \"NEWTON-CG\", \"L-BFGS-B\", \"TNC\", \"COBYLA\", \"SLSQP\".\n",
    "# callback: functions called after each iteration of optimizations.\n"
   ]
  },
  {
   "cell_type": "code",
   "execution_count": 118,
   "id": "ef22e4f0-38ba-4f5b-9ae3-433191ec956a",
   "metadata": {},
   "outputs": [],
   "source": [
    "# Example of the above: in which we will minimize the function: x^2 + x + 2 with BFGS:\n",
    "from scipy.optimize import minimize"
   ]
  },
  {
   "cell_type": "code",
   "execution_count": 119,
   "id": "4b6f75dc-8500-4248-b68f-e2df80bd1e37",
   "metadata": {},
   "outputs": [
    {
     "name": "stdout",
     "output_type": "stream",
     "text": [
      "  message: Optimization terminated successfully.\n",
      "  success: True\n",
      "   status: 0\n",
      "      fun: 1.75\n",
      "        x: [-5.000e-01]\n",
      "      nit: 2\n",
      "      jac: [ 0.000e+00]\n",
      " hess_inv: [[ 5.000e-01]]\n",
      "     nfev: 8\n",
      "     njev: 4\n"
     ]
    }
   ],
   "source": [
    "def eqn(x):\n",
    "    return x**2+x+2\n",
    "mymin=minimize(eqn,0,method='BFGS')\n",
    "print(mymin)"
   ]
  },
  {
   "cell_type": "markdown",
   "id": "40285f08-9971-4166-a1aa-6226368d61a6",
   "metadata": {},
   "source": [
    "# Sparse data"
   ]
  },
  {
   "cell_type": "code",
   "execution_count": 129,
   "id": "1d9ee944-820f-4af4-bd5c-95d4ea21f9cc",
   "metadata": {},
   "outputs": [],
   "source": [
    "# What is sparse data: Sparse data is the data that has mostly unused elements. like the elements that don't carry any info. [1,0,2,0,4,5,6,9,2,4]\n",
    "# sparse data example [1,0,2,0,0,3,0,0,0,0,0,4]\n",
    "#If number of zeroes in a data set are maximum then it called sparse data\n",
    "# Dense Array: [2,5,6,8,9,7,1,2,3,6]\n"
   ]
  },
  {
   "cell_type": "code",
   "execution_count": 121,
   "id": "f41caff7-615e-4fc3-8e53-f308ef35172b",
   "metadata": {},
   "outputs": [],
   "source": [
    "# How to work with Sparse Data.\n",
    "# scipy has a module scipy.sparse function. there are 2 matrics in this sparse: CSC(Compressed sparse Column) and CSR(Commpresses Sparse Row)\n",
    "# CSR Matrics: here we will create a CSR matrics from an array:"
   ]
  },
  {
   "cell_type": "code",
   "execution_count": 122,
   "id": "7060d1fe-667f-4b63-96ab-3755b45ff02c",
   "metadata": {},
   "outputs": [
    {
     "name": "stdout",
     "output_type": "stream",
     "text": [
      "  (0, 5)\t1\n",
      "  (0, 6)\t1\n",
      "  (0, 8)\t2\n"
     ]
    }
   ],
   "source": [
    "import numpy as np\n",
    "from scipy.sparse import csr_matrix\n",
    "mehedi = np.array([0,0,0,0,0,1,1,0,2])\n",
    "print(csr_matrix(mehedi))"
   ]
  },
  {
   "cell_type": "code",
   "execution_count": 123,
   "id": "c65da75a-3a18-4606-91f1-23626d3593ef",
   "metadata": {},
   "outputs": [
    {
     "name": "stdout",
     "output_type": "stream",
     "text": [
      "[1 1 2]\n"
     ]
    }
   ],
   "source": [
    "# Sparse matrix Methods\n",
    "mehedi = np.array([[0,0,0,],[0,0,1],[1,0,2]])\n",
    "print(csr_matrix(mehedi).data)"
   ]
  },
  {
   "cell_type": "code",
   "execution_count": 124,
   "id": "faddfeee-db60-4e77-a1f3-3afe079de836",
   "metadata": {},
   "outputs": [
    {
     "name": "stdout",
     "output_type": "stream",
     "text": [
      "3\n"
     ]
    }
   ],
   "source": [
    "# what if we want to count nonzeros, we can do this via count_nonzero() method.\n",
    "mehedi = np.array([[0,0,0,],[0,0,1],[1,0,2]])\n",
    "print(csr_matrix(mehedi).count_nonzero())"
   ]
  },
  {
   "cell_type": "code",
   "execution_count": 125,
   "id": "b0718cfa-480b-4161-982f-d5cfb89a8e6b",
   "metadata": {},
   "outputs": [
    {
     "name": "stdout",
     "output_type": "stream",
     "text": [
      "  (1, 2)\t1\n",
      "  (2, 0)\t1\n",
      "  (2, 2)\t2\n"
     ]
    }
   ],
   "source": [
    "# For removing the zero elemements from the matrix we will use eliminate_zeros().\n",
    "mehedi = np.array([[0,0,0,],[0,0,1],[1,0,2]])\n",
    "mehedinew = csr_matrix(mehedi)\n",
    "mehedinew.eliminate_zeros()\n",
    "print(mehedinew)\n"
   ]
  },
  {
   "cell_type": "code",
   "execution_count": 126,
   "id": "a36d7359-2683-4073-b4b0-098d2cbae9f9",
   "metadata": {},
   "outputs": [
    {
     "name": "stdout",
     "output_type": "stream",
     "text": [
      "  (1, 2)\t1\n",
      "  (2, 0)\t1\n",
      "  (2, 2)\t2\n"
     ]
    }
   ],
   "source": [
    "# eliminating duplicate entries with the sum_duplicates() method:\n",
    "mehedi = np.array([[0,0,0,],[0,0,1],[1,0,2]])\n",
    "mehedinew = csr_matrix(mehedi)\n",
    "mehedinew.sum_duplicates()\n",
    "print(mehedinew)"
   ]
  },
  {
   "cell_type": "code",
   "execution_count": 127,
   "id": "8b73d7c5-d514-4e18-97f9-c395b339e239",
   "metadata": {},
   "outputs": [],
   "source": [
    "# here we will convert csr to csc with the tocsc():"
   ]
  },
  {
   "cell_type": "code",
   "execution_count": 128,
   "id": "638f7c7c-2939-4d90-ad01-c2d69e469fa5",
   "metadata": {},
   "outputs": [
    {
     "name": "stdout",
     "output_type": "stream",
     "text": [
      "  (2, 0)\t1\n",
      "  (1, 2)\t1\n",
      "  (2, 2)\t2\n"
     ]
    }
   ],
   "source": [
    "mehedi= np.array([[0,0,0,],[0,0,1],[1,0,2]])\n",
    "mehedinew=csr_matrix(mehedi).tocsc()\n",
    "print(mehedinew)"
   ]
  },
  {
   "cell_type": "code",
   "execution_count": null,
   "id": "2b4ab894-30eb-42c9-9b85-16c2621f8f27",
   "metadata": {},
   "outputs": [],
   "source": []
  }
 ],
 "metadata": {
  "kernelspec": {
   "display_name": "Python 3 (ipykernel)",
   "language": "python",
   "name": "python3"
  },
  "language_info": {
   "codemirror_mode": {
    "name": "ipython",
    "version": 3
   },
   "file_extension": ".py",
   "mimetype": "text/x-python",
   "name": "python",
   "nbconvert_exporter": "python",
   "pygments_lexer": "ipython3",
   "version": "3.12.2"
  }
 },
 "nbformat": 4,
 "nbformat_minor": 5
}
